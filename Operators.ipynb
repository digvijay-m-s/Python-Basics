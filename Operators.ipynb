{
 "cells": [
  {
   "cell_type": "code",
   "execution_count": 83,
   "id": "b351719d",
   "metadata": {},
   "outputs": [
    {
     "data": {
      "text/plain": [
       "50"
      ]
     },
     "execution_count": 83,
     "metadata": {},
     "output_type": "execute_result"
    }
   ],
   "source": [
    "### addition\n",
    "x=20\n",
    "y=30\n",
    "sum= x+y\n",
    "sum"
   ]
  },
  {
   "cell_type": "code",
   "execution_count": 84,
   "id": "a9c94ef5",
   "metadata": {},
   "outputs": [
    {
     "data": {
      "text/plain": [
       "10"
      ]
     },
     "execution_count": 84,
     "metadata": {},
     "output_type": "execute_result"
    }
   ],
   "source": [
    "### subtraction\n",
    "x=30\n",
    "y=20\n",
    "dif=x-y\n",
    "dif"
   ]
  },
  {
   "cell_type": "code",
   "execution_count": 85,
   "id": "bb67fc73",
   "metadata": {},
   "outputs": [
    {
     "data": {
      "text/plain": [
       "14"
      ]
     },
     "execution_count": 85,
     "metadata": {},
     "output_type": "execute_result"
    }
   ],
   "source": [
    "###multiplication\n",
    "x=2\n",
    "y=7\n",
    "product = x*y\n",
    "product"
   ]
  },
  {
   "cell_type": "code",
   "execution_count": 86,
   "id": "6e2a0f13",
   "metadata": {},
   "outputs": [
    {
     "data": {
      "text/plain": [
       "3.3333333333333335"
      ]
     },
     "execution_count": 86,
     "metadata": {},
     "output_type": "execute_result"
    }
   ],
   "source": [
    "### divison\n",
    "x=10\n",
    "y=3\n",
    "div=x/y\n",
    "div"
   ]
  },
  {
   "cell_type": "code",
   "execution_count": 87,
   "id": "21ec978a",
   "metadata": {},
   "outputs": [
    {
     "data": {
      "text/plain": [
       "5.0"
      ]
     },
     "execution_count": 87,
     "metadata": {},
     "output_type": "execute_result"
    }
   ],
   "source": [
    "### divison\n",
    "x=10\n",
    "y=2\n",
    "div=x/y\n",
    "div\n",
    "\n",
    "###divison always returns float"
   ]
  },
  {
   "cell_type": "code",
   "execution_count": 88,
   "id": "4d2abbee",
   "metadata": {},
   "outputs": [
    {
     "data": {
      "text/plain": [
       "float"
      ]
     },
     "execution_count": 88,
     "metadata": {},
     "output_type": "execute_result"
    }
   ],
   "source": [
    "type(div)"
   ]
  },
  {
   "cell_type": "code",
   "execution_count": null,
   "id": "0ba42680",
   "metadata": {},
   "outputs": [],
   "source": []
  },
  {
   "cell_type": "code",
   "execution_count": 89,
   "id": "6e4fca89",
   "metadata": {},
   "outputs": [],
   "source": [
    "### Modulus"
   ]
  },
  {
   "cell_type": "code",
   "execution_count": 90,
   "id": "e103bb5d",
   "metadata": {},
   "outputs": [],
   "source": [
    "###Exponentiation"
   ]
  },
  {
   "cell_type": "code",
   "execution_count": 91,
   "id": "107b0fb4",
   "metadata": {},
   "outputs": [
    {
     "ename": "SyntaxError",
     "evalue": "invalid syntax (<ipython-input-91-6861dd98e295>, line 2)",
     "output_type": "error",
     "traceback": [
      "\u001b[1;36m  File \u001b[1;32m\"<ipython-input-91-6861dd98e295>\"\u001b[1;36m, line \u001b[1;32m2\u001b[0m\n\u001b[1;33m    x=\u001b[0m\n\u001b[1;37m      ^\u001b[0m\n\u001b[1;31mSyntaxError\u001b[0m\u001b[1;31m:\u001b[0m invalid syntax\n"
     ]
    }
   ],
   "source": [
    "\n",
    "#FloorDivison\n",
    "x=\n",
    "y=\n"
   ]
  },
  {
   "cell_type": "markdown",
   "id": "c577c12c",
   "metadata": {},
   "source": [
    "# Logical Operators"
   ]
  },
  {
   "cell_type": "code",
   "execution_count": null,
   "id": "410b2781",
   "metadata": {},
   "outputs": [],
   "source": [
    "# AND"
   ]
  },
  {
   "cell_type": "code",
   "execution_count": null,
   "id": "72d7945d",
   "metadata": {},
   "outputs": [],
   "source": [
    "# OR"
   ]
  },
  {
   "cell_type": "code",
   "execution_count": null,
   "id": "b573fadb",
   "metadata": {},
   "outputs": [],
   "source": [
    "#NOT"
   ]
  },
  {
   "cell_type": "markdown",
   "id": "98ae67e8",
   "metadata": {},
   "source": [
    "# Assignment Operator"
   ]
  },
  {
   "cell_type": "code",
   "execution_count": null,
   "id": "a586fe8f",
   "metadata": {},
   "outputs": [],
   "source": [
    "x=5\n",
    "x"
   ]
  },
  {
   "cell_type": "code",
   "execution_count": null,
   "id": "314c549f",
   "metadata": {},
   "outputs": [],
   "source": [
    "x=5\n",
    "x+=3 # this means x=x+3\n",
    "x\n"
   ]
  },
  {
   "cell_type": "code",
   "execution_count": null,
   "id": "88acdb9b",
   "metadata": {},
   "outputs": [],
   "source": [
    "x=5\n",
    "x-=3 # this means x=x-3\n",
    "x"
   ]
  },
  {
   "cell_type": "code",
   "execution_count": null,
   "id": "ae412ea1",
   "metadata": {},
   "outputs": [],
   "source": [
    "x=5\n",
    "x*=5 #this means x=x*5\n",
    "x"
   ]
  },
  {
   "cell_type": "code",
   "execution_count": null,
   "id": "31f4b646",
   "metadata": {},
   "outputs": [],
   "source": [
    "x=5\n",
    "x/=3  #this means x=x/3\n",
    "x"
   ]
  },
  {
   "cell_type": "code",
   "execution_count": null,
   "id": "2bdc80bc",
   "metadata": {},
   "outputs": [],
   "source": [
    "x=6\n",
    "x/=3\n",
    "x\n",
    "\n",
    "##this always returns value in float"
   ]
  },
  {
   "cell_type": "code",
   "execution_count": null,
   "id": "9e60f87d",
   "metadata": {},
   "outputs": [],
   "source": [
    "x=5\n",
    "x//=3  #this means x=x//3\n",
    "x"
   ]
  },
  {
   "cell_type": "code",
   "execution_count": null,
   "id": "54e1bca8",
   "metadata": {},
   "outputs": [],
   "source": [
    "x=5\n",
    "x//=5\n",
    "x\n"
   ]
  },
  {
   "cell_type": "code",
   "execution_count": null,
   "id": "a131c1b8",
   "metadata": {},
   "outputs": [],
   "source": [
    "## power assignment \n",
    "x=5\n",
    "x**=3\n",
    "x"
   ]
  },
  {
   "cell_type": "code",
   "execution_count": null,
   "id": "e022eebc",
   "metadata": {},
   "outputs": [],
   "source": [
    "x=10\n",
    "x&=3\n",
    "x"
   ]
  },
  {
   "cell_type": "code",
   "execution_count": null,
   "id": "1dcc9de0",
   "metadata": {},
   "outputs": [],
   "source": [
    "x=5\n",
    "x|=3\n",
    "x"
   ]
  },
  {
   "cell_type": "code",
   "execution_count": null,
   "id": "a66863e7",
   "metadata": {},
   "outputs": [],
   "source": []
  },
  {
   "cell_type": "code",
   "execution_count": null,
   "id": "f6a26728",
   "metadata": {},
   "outputs": [],
   "source": [
    "a=True \n",
    "b= 0.00001\n",
    "print(a==b)"
   ]
  },
  {
   "cell_type": "code",
   "execution_count": null,
   "id": "8e4caca3",
   "metadata": {},
   "outputs": [],
   "source": [
    "a= 1\n",
    "b= 1.000000001\n",
    "print(a==b)"
   ]
  },
  {
   "cell_type": "markdown",
   "id": "66228bc5",
   "metadata": {},
   "source": [
    "# Bitwise Operator"
   ]
  },
  {
   "cell_type": "code",
   "execution_count": null,
   "id": "cfa506a1",
   "metadata": {},
   "outputs": [],
   "source": [
    "x=15\n",
    "x&=4\n",
    "x"
   ]
  },
  {
   "cell_type": "code",
   "execution_count": null,
   "id": "9dbf7cd2",
   "metadata": {},
   "outputs": [],
   "source": [
    "x=15\n",
    "x|=4\n",
    "x"
   ]
  },
  {
   "cell_type": "code",
   "execution_count": null,
   "id": "accb2b27",
   "metadata": {},
   "outputs": [],
   "source": [
    "x=15\n",
    "x^=4\n",
    "x"
   ]
  },
  {
   "cell_type": "code",
   "execution_count": null,
   "id": "79900172",
   "metadata": {},
   "outputs": [],
   "source": [
    "x=7\n",
    "x&=2\n",
    "x"
   ]
  },
  {
   "cell_type": "code",
   "execution_count": null,
   "id": "1ecf6aca",
   "metadata": {},
   "outputs": [],
   "source": [
    "x=7\n",
    "x|=2\n",
    "x"
   ]
  },
  {
   "cell_type": "code",
   "execution_count": null,
   "id": "067fc767",
   "metadata": {},
   "outputs": [],
   "source": [
    "x=7\n",
    "x^=2\n",
    "x"
   ]
  },
  {
   "cell_type": "code",
   "execution_count": null,
   "id": "c4548381",
   "metadata": {},
   "outputs": [],
   "source": [
    "x=9\n",
    "x&=11\n",
    "x"
   ]
  },
  {
   "cell_type": "code",
   "execution_count": null,
   "id": "78db4f95",
   "metadata": {},
   "outputs": [],
   "source": [
    "x=9\n",
    "x|=11\n",
    "x"
   ]
  },
  {
   "cell_type": "code",
   "execution_count": null,
   "id": "714718de",
   "metadata": {},
   "outputs": [],
   "source": [
    "x=9\n",
    "x^=11\n",
    "x"
   ]
  },
  {
   "cell_type": "code",
   "execution_count": null,
   "id": "dc70ad80",
   "metadata": {},
   "outputs": [],
   "source": [
    "x=5\n",
    "x>>=2\n",
    "x\n",
    "###this is right shift operator\n",
    "###this oprator is used to perform bitwise right shift on the operands and then \n",
    "### assigning assigning the result to the left operand"
   ]
  },
  {
   "cell_type": "code",
   "execution_count": null,
   "id": "74f52b48",
   "metadata": {},
   "outputs": [],
   "source": [
    "x=96\n",
    "x>>=1\n",
    "x"
   ]
  },
  {
   "cell_type": "code",
   "execution_count": null,
   "id": "228c67cd",
   "metadata": {},
   "outputs": [],
   "source": [
    "x=10\n",
    "x>>=1\n",
    "x"
   ]
  },
  {
   "cell_type": "code",
   "execution_count": null,
   "id": "d4483c9b",
   "metadata": {},
   "outputs": [],
   "source": [
    "x=4\n",
    "x>>=1\n",
    "x"
   ]
  },
  {
   "cell_type": "code",
   "execution_count": null,
   "id": "a6e4d8ff",
   "metadata": {},
   "outputs": [],
   "source": [
    "x=22\n",
    "x>>=1\n",
    "x"
   ]
  },
  {
   "cell_type": "code",
   "execution_count": null,
   "id": "80b2fbd7",
   "metadata": {},
   "outputs": [],
   "source": [
    "x=10\n",
    "x<<=1\n",
    "x\n",
    "### this is left shift operator\n",
    "#this operator is used to perform bitwise left shift on the operands and then asssigning result to the left operand"
   ]
  },
  {
   "cell_type": "code",
   "execution_count": null,
   "id": "9a51eaf3",
   "metadata": {},
   "outputs": [],
   "source": [
    "x=2\n",
    "x<<=5\n",
    "x"
   ]
  },
  {
   "cell_type": "markdown",
   "id": "f3a50200",
   "metadata": {},
   "source": [
    "# Comparsion Operators"
   ]
  },
  {
   "cell_type": "code",
   "execution_count": null,
   "id": "892b5bce",
   "metadata": {},
   "outputs": [],
   "source": [
    "# == operator\n",
    "x=5\n",
    "y=5.0\n",
    "print(x==y)"
   ]
  },
  {
   "cell_type": "code",
   "execution_count": null,
   "id": "4be75772",
   "metadata": {},
   "outputs": [],
   "source": [
    "#  != operator\n",
    "x=10\n",
    "y=20\n",
    "print(x!=y)"
   ]
  },
  {
   "cell_type": "code",
   "execution_count": null,
   "id": "fd6734c4",
   "metadata": {},
   "outputs": [],
   "source": [
    "# > operator\n",
    "x=10\n",
    "y=20\n",
    "print(x>y)"
   ]
  },
  {
   "cell_type": "code",
   "execution_count": null,
   "id": "ef36a2e5",
   "metadata": {},
   "outputs": [],
   "source": [
    "# < operator\n",
    "x=10\n",
    "y=20\n",
    "print(x<y)"
   ]
  },
  {
   "cell_type": "code",
   "execution_count": null,
   "id": "ffa69801",
   "metadata": {},
   "outputs": [],
   "source": [
    "# <= operator\n",
    "x=10\n",
    "y=15\n",
    "print(x<=y)"
   ]
  },
  {
   "cell_type": "code",
   "execution_count": null,
   "id": "34d5214e",
   "metadata": {},
   "outputs": [],
   "source": [
    "# >= operator\n",
    "x=20\n",
    "y=20\n",
    "print(x>=y)"
   ]
  },
  {
   "cell_type": "code",
   "execution_count": null,
   "id": "b288b043",
   "metadata": {},
   "outputs": [],
   "source": [
    "x=4\n",
    "y=10\n",
    "print(x<y)"
   ]
  },
  {
   "cell_type": "code",
   "execution_count": null,
   "id": "f56ea08e",
   "metadata": {},
   "outputs": [],
   "source": [
    "x=4\n",
    "y=2\n",
    "print(x<=4 and y!=3)"
   ]
  },
  {
   "cell_type": "code",
   "execution_count": null,
   "id": "7bf930f3",
   "metadata": {},
   "outputs": [],
   "source": [
    "x=100\n",
    "y=500\n",
    "z=not(x<=200 or y>=1000)\n",
    "print(z)"
   ]
  },
  {
   "cell_type": "markdown",
   "id": "a7c81197",
   "metadata": {},
   "source": [
    "# Escape Character"
   ]
  },
  {
   "cell_type": "code",
   "execution_count": null,
   "id": "7fc9ebb1",
   "metadata": {},
   "outputs": [],
   "source": [
    "intro=\"hello world\"\n",
    "print(intro)\n",
    "\n",
    "# double quote"
   ]
  },
  {
   "cell_type": "code",
   "execution_count": null,
   "id": "c87e61b5",
   "metadata": {},
   "outputs": [],
   "source": [
    "intro='hello world'\n",
    "print(intro)\n",
    "\n",
    "#single quote"
   ]
  },
  {
   "cell_type": "code",
   "execution_count": null,
   "id": "07b29d8b",
   "metadata": {},
   "outputs": [],
   "source": [
    "intro = \"hello sir is this lisha\"s bag?\"\n",
    "print(intro)\n",
    "\n",
    "\n",
    "# this will throw an error if you use double quotes inside a string that is surrounded by double quotes"
   ]
  },
  {
   "cell_type": "code",
   "execution_count": null,
   "id": "fbe08482",
   "metadata": {},
   "outputs": [],
   "source": [
    "intro=\"hello sir, is this Lisa\\\"s maams bag\"\n",
    "\n",
    "print(intro)\n",
    "\n",
    "\n",
    "### the backslash \\ helps to avoid this error, this is the escape character"
   ]
  },
  {
   "cell_type": "code",
   "execution_count": null,
   "id": "6f65a146",
   "metadata": {},
   "outputs": [],
   "source": [
    "intro='hello sir, is this Lisa\\'s maams bag'\n",
    "print(intro)\n",
    "\n",
    "### the backslash \\ helps to avoid this error, this is the escape character"
   ]
  },
  {
   "cell_type": "markdown",
   "id": "b33974b2",
   "metadata": {},
   "source": [
    "# New line"
   ]
  },
  {
   "cell_type": "code",
   "execution_count": null,
   "id": "7db28792",
   "metadata": {},
   "outputs": [],
   "source": [
    "prag=\"hey raj \\n where are you going?\"\n",
    "print(prag)\n",
    "\n",
    "#space after newline character"
   ]
  },
  {
   "cell_type": "code",
   "execution_count": null,
   "id": "de36ffa3",
   "metadata": {},
   "outputs": [],
   "source": [
    "prag=\"hey raj \\nwhere are you going?\"\n",
    "print(prag)\n",
    "\n",
    "#no space after newline character"
   ]
  },
  {
   "cell_type": "code",
   "execution_count": null,
   "id": "d67e034a",
   "metadata": {},
   "outputs": [],
   "source": [
    "prag=\"hey raj \\t where are you going?\"\n",
    "print(prag)\n",
    "\n",
    "#tab space after tabspace character"
   ]
  },
  {
   "cell_type": "code",
   "execution_count": null,
   "id": "6b076261",
   "metadata": {},
   "outputs": [],
   "source": [
    "prag=\"hey raj \\twhere are you going?\"\n",
    "print(prag)\n"
   ]
  },
  {
   "cell_type": "markdown",
   "id": "601f699e",
   "metadata": {},
   "source": [
    "# Format specifier"
   ]
  },
  {
   "cell_type": "code",
   "execution_count": null,
   "id": "56b6746e",
   "metadata": {},
   "outputs": [],
   "source": [
    "#string- %s\n",
    "#number - %d"
   ]
  },
  {
   "cell_type": "code",
   "execution_count": null,
   "id": "7779ea5a",
   "metadata": {},
   "outputs": [],
   "source": [
    "name=\"diggi\"\n",
    "print(\"hey %s how are you doing this morning?\" %name)"
   ]
  },
  {
   "cell_type": "code",
   "execution_count": null,
   "id": "c84fbeef",
   "metadata": {},
   "outputs": [],
   "source": [
    "name= \"diggi\"\n",
    "time = 6\n",
    "\n",
    "print(\"hey %s, do you really wake up at %d AM everyday ??\"% (name,time) )"
   ]
  },
  {
   "cell_type": "code",
   "execution_count": null,
   "id": "c9565ef7",
   "metadata": {
    "scrolled": true
   },
   "outputs": [],
   "source": [
    "name= \"diggi\"\n",
    "time = 6\n",
    "\n",
    "print(\"hey %s, do you really wake up at %d AM everyday ??\"% (time,name) )\n",
    "\n",
    "###name should come before time"
   ]
  },
  {
   "cell_type": "markdown",
   "id": "83acba87",
   "metadata": {},
   "source": [
    "# Data types in Python"
   ]
  },
  {
   "cell_type": "markdown",
   "id": "5558331b",
   "metadata": {},
   "source": [
    "## List"
   ]
  },
  {
   "cell_type": "code",
   "execution_count": null,
   "id": "526f621d",
   "metadata": {},
   "outputs": [],
   "source": [
    "# */ List is an ordered sequence of items. It is the most used python data-type\n",
    "#List items are ordered, changeable/mutable , and allow duplicate values\n",
    "#It can store any type of data like int, float, string etc.\n",
    "#Items of list are seperated by commas and are enclosed within [] brackets /*"
   ]
  },
  {
   "cell_type": "code",
   "execution_count": 118,
   "id": "656343a3",
   "metadata": {},
   "outputs": [
    {
     "ename": "TypeError",
     "evalue": "'list' object is not callable",
     "output_type": "error",
     "traceback": [
      "\u001b[1;31m---------------------------------------------------------------------------\u001b[0m",
      "\u001b[1;31mTypeError\u001b[0m                                 Traceback (most recent call last)",
      "\u001b[1;32m<ipython-input-118-7c29bb28ae56>\u001b[0m in \u001b[0;36m<module>\u001b[1;34m\u001b[0m\n\u001b[0;32m      5\u001b[0m \u001b[1;33m\u001b[0m\u001b[0m\n\u001b[0;32m      6\u001b[0m \u001b[1;31m### using list() function to create a list\u001b[0m\u001b[1;33m\u001b[0m\u001b[1;33m\u001b[0m\u001b[1;33m\u001b[0m\u001b[0m\n\u001b[1;32m----> 7\u001b[1;33m \u001b[0mh\u001b[0m\u001b[1;33m=\u001b[0m \u001b[0mlist\u001b[0m\u001b[1;33m(\u001b[0m\u001b[1;33m(\u001b[0m\u001b[1;36m6\u001b[0m\u001b[1;33m,\u001b[0m\u001b[1;36m7\u001b[0m\u001b[1;33m)\u001b[0m\u001b[1;33m)\u001b[0m\u001b[1;33m\u001b[0m\u001b[1;33m\u001b[0m\u001b[0m\n\u001b[0m\u001b[0;32m      8\u001b[0m \u001b[1;31m### using type() function to print data type of the list\u001b[0m\u001b[1;33m\u001b[0m\u001b[1;33m\u001b[0m\u001b[1;33m\u001b[0m\u001b[0m\n\u001b[0;32m      9\u001b[0m \u001b[0mprint\u001b[0m\u001b[1;33m(\u001b[0m\u001b[0mtype\u001b[0m\u001b[1;33m(\u001b[0m\u001b[0mL1\u001b[0m\u001b[1;33m)\u001b[0m\u001b[1;33m)\u001b[0m\u001b[1;33m\u001b[0m\u001b[1;33m\u001b[0m\u001b[0m\n",
      "\u001b[1;31mTypeError\u001b[0m: 'list' object is not callable"
     ]
    }
   ],
   "source": [
    "L1=[\"krishna\",108.3,2,5,\"india\"]\n",
    "## list is hetrogenous - it allows multiple data types\n",
    "L2=[1,2,3,4,5,6]\n",
    "L3=[True, 2, False]\n",
    "\n",
    "### using list() function to create a list\n",
    "h= list((6,7))\n",
    "### using type() function to print data type of the list\n",
    "print(type(L1))\n",
    "print(type(L2))\n",
    "print(type(L3))\n",
    "\n",
    "\n",
    "### using type function to find out the data type of specific item in list\n",
    "### data type of element at index number 0 of list L3\n",
    "print(type(L3[0]))\n",
    "\n",
    "###data type of element at index number 2 of list L2\n",
    "print(type(L2[2]))\n",
    "\n"
   ]
  },
  {
   "cell_type": "code",
   "execution_count": 96,
   "id": "a9549c7c",
   "metadata": {},
   "outputs": [
    {
     "data": {
      "text/plain": [
       "3"
      ]
     },
     "execution_count": 96,
     "metadata": {},
     "output_type": "execute_result"
    }
   ],
   "source": [
    "L1=[\"krishna\",108.3,2,5,\"india\"]\n",
    "## list is hetrogenous - it allows multiple data types\n",
    "L2=[1,2,3,4,5,6]\n",
    "L3=[True, 2, False]\n",
    "\n",
    "### using list() function to create a list\n",
    "\n",
    "L2[2]\n",
    "### listname[Index number]\n",
    "###this will print the element at 'index number' in list 'listname'\n",
    "\n",
    "#type(L2[2])\n",
    "### this will return the data type of the element in the list\n"
   ]
  },
  {
   "cell_type": "code",
   "execution_count": 97,
   "id": "d725d5af",
   "metadata": {},
   "outputs": [
    {
     "name": "stdout",
     "output_type": "stream",
     "text": [
      "2\n",
      "2\n",
      "5\n",
      "7.4\n",
      "(1-2j)\n",
      "LOL\n",
      "1\n",
      "this is a new list  [1, 2, 2, 5, 7.4, (1-2j), 'LOL']\n"
     ]
    }
   ],
   "source": [
    "list = [1,2,2,5,7.4,1-2j,\"LOL\"]\n",
    "print(list[1])\n",
    "print(list[2])\n",
    "print(list[3])\n",
    "print(list[4])\n",
    "print(list[5])\n",
    "print(list[6])\n",
    "print(list[0])\n",
    "print(\"this is a new list \", list)"
   ]
  },
  {
   "cell_type": "code",
   "execution_count": null,
   "id": "3f98a153",
   "metadata": {},
   "outputs": [],
   "source": []
  },
  {
   "cell_type": "code",
   "execution_count": null,
   "id": "85e85cff",
   "metadata": {},
   "outputs": [],
   "source": []
  },
  {
   "cell_type": "code",
   "execution_count": 98,
   "id": "71482dc8",
   "metadata": {},
   "outputs": [
    {
     "name": "stdout",
     "output_type": "stream",
     "text": [
      "List L1 ['Krishna', 1.5, 300, 'India']\n"
     ]
    }
   ],
   "source": [
    "a=[1,3,'x','Raj']\n",
    "L1=['Krishna',1.5,300,\"India\"]\n",
    "L2=[True,2,False]\n",
    "\n",
    "\n",
    "print(\"List L1\",L1)\n"
   ]
  },
  {
   "cell_type": "code",
   "execution_count": 99,
   "id": "da047377",
   "metadata": {},
   "outputs": [
    {
     "name": "stdout",
     "output_type": "stream",
     "text": [
      "<class 'list'>\n"
     ]
    }
   ],
   "source": [
    "print(type(A))"
   ]
  },
  {
   "cell_type": "code",
   "execution_count": 100,
   "id": "e7fd64c1",
   "metadata": {},
   "outputs": [
    {
     "name": "stdout",
     "output_type": "stream",
     "text": [
      "<class 'int'>\n"
     ]
    }
   ],
   "source": [
    "print(type(A[0]))"
   ]
  },
  {
   "cell_type": "code",
   "execution_count": 101,
   "id": "7225e24e",
   "metadata": {},
   "outputs": [
    {
     "name": "stdout",
     "output_type": "stream",
     "text": [
      "<class 'list'>\n"
     ]
    }
   ],
   "source": [
    "print(type(L2))"
   ]
  },
  {
   "cell_type": "code",
   "execution_count": 102,
   "id": "e52cfa4b",
   "metadata": {},
   "outputs": [
    {
     "name": "stdout",
     "output_type": "stream",
     "text": [
      "<class 'bool'>\n"
     ]
    }
   ],
   "source": [
    "print(type(L2[0]))"
   ]
  },
  {
   "cell_type": "code",
   "execution_count": 103,
   "id": "437e73f0",
   "metadata": {},
   "outputs": [
    {
     "data": {
      "text/plain": [
       "'India'"
      ]
     },
     "execution_count": 103,
     "metadata": {},
     "output_type": "execute_result"
    }
   ],
   "source": [
    "L1[3]"
   ]
  },
  {
   "cell_type": "code",
   "execution_count": 104,
   "id": "9ac38c0b",
   "metadata": {},
   "outputs": [
    {
     "data": {
      "text/plain": [
       "300"
      ]
     },
     "execution_count": 104,
     "metadata": {},
     "output_type": "execute_result"
    }
   ],
   "source": [
    "L1[2]"
   ]
  },
  {
   "cell_type": "code",
   "execution_count": 105,
   "id": "c699bff8",
   "metadata": {},
   "outputs": [
    {
     "ename": "IndexError",
     "evalue": "list index out of range",
     "output_type": "error",
     "traceback": [
      "\u001b[1;31m---------------------------------------------------------------------------\u001b[0m",
      "\u001b[1;31mIndexError\u001b[0m                                Traceback (most recent call last)",
      "\u001b[1;32m<ipython-input-105-4397ae79ec19>\u001b[0m in \u001b[0;36m<module>\u001b[1;34m\u001b[0m\n\u001b[1;32m----> 1\u001b[1;33m \u001b[0mL2\u001b[0m\u001b[1;33m[\u001b[0m\u001b[1;36m10\u001b[0m\u001b[1;33m]\u001b[0m\u001b[1;33m\u001b[0m\u001b[1;33m\u001b[0m\u001b[0m\n\u001b[0m",
      "\u001b[1;31mIndexError\u001b[0m: list index out of range"
     ]
    }
   ],
   "source": [
    "L2[10]"
   ]
  },
  {
   "cell_type": "code",
   "execution_count": 106,
   "id": "9b4b15bb",
   "metadata": {},
   "outputs": [
    {
     "data": {
      "text/plain": [
       "7"
      ]
     },
     "execution_count": 106,
     "metadata": {},
     "output_type": "execute_result"
    }
   ],
   "source": [
    "A[1]"
   ]
  },
  {
   "cell_type": "code",
   "execution_count": 107,
   "id": "1aea871c",
   "metadata": {},
   "outputs": [
    {
     "data": {
      "text/plain": [
       "6"
      ]
     },
     "execution_count": 107,
     "metadata": {},
     "output_type": "execute_result"
    }
   ],
   "source": [
    "A[0]"
   ]
  },
  {
   "cell_type": "code",
   "execution_count": null,
   "id": "892ee9be",
   "metadata": {},
   "outputs": [],
   "source": []
  },
  {
   "cell_type": "code",
   "execution_count": 108,
   "id": "9c315f24",
   "metadata": {},
   "outputs": [
    {
     "data": {
      "text/plain": [
       "2.5"
      ]
     },
     "execution_count": 108,
     "metadata": {},
     "output_type": "execute_result"
    }
   ],
   "source": [
    "L=[1,2,3,4,2.3,2.5,8.6,1-2j,\"Raja\",\"King\"]\n",
    "L[5]"
   ]
  },
  {
   "cell_type": "code",
   "execution_count": 109,
   "id": "364d5019",
   "metadata": {},
   "outputs": [
    {
     "data": {
      "text/plain": [
       "complex"
      ]
     },
     "execution_count": 109,
     "metadata": {},
     "output_type": "execute_result"
    }
   ],
   "source": [
    "type(L[7])"
   ]
  },
  {
   "cell_type": "code",
   "execution_count": 111,
   "id": "5dfa538b",
   "metadata": {},
   "outputs": [],
   "source": [
    "L[4]=10.2"
   ]
  },
  {
   "cell_type": "code",
   "execution_count": 112,
   "id": "fe9267bf",
   "metadata": {},
   "outputs": [
    {
     "data": {
      "text/plain": [
       "[1, 2, 3, 4, 10.2, 2.5, 8.6, (1-2j), 'Raja', 'King']"
      ]
     },
     "execution_count": 112,
     "metadata": {},
     "output_type": "execute_result"
    }
   ],
   "source": [
    "L"
   ]
  },
  {
   "cell_type": "code",
   "execution_count": 113,
   "id": "91f39c73",
   "metadata": {},
   "outputs": [
    {
     "data": {
      "text/plain": [
       "[1, 1, 1, 1, 1, 1, 1, 'HI']"
      ]
     },
     "execution_count": 113,
     "metadata": {},
     "output_type": "execute_result"
    }
   ],
   "source": [
    "L1=[1,3.5,1,1,1,1,1,\"HI\"]\n",
    "L1[1]=1\n",
    "L1"
   ]
  },
  {
   "cell_type": "code",
   "execution_count": null,
   "id": "087ada2d",
   "metadata": {},
   "outputs": [],
   "source": []
  },
  {
   "cell_type": "code",
   "execution_count": null,
   "id": "f7a29d77",
   "metadata": {},
   "outputs": [],
   "source": []
  }
 ],
 "metadata": {
  "kernelspec": {
   "display_name": "Python 3",
   "language": "python",
   "name": "python3"
  },
  "language_info": {
   "codemirror_mode": {
    "name": "ipython",
    "version": 3
   },
   "file_extension": ".py",
   "mimetype": "text/x-python",
   "name": "python",
   "nbconvert_exporter": "python",
   "pygments_lexer": "ipython3",
   "version": "3.8.8"
  }
 },
 "nbformat": 4,
 "nbformat_minor": 5
}
