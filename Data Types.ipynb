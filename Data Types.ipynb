{
 "cells": [
  {
   "cell_type": "code",
   "execution_count": 233,
   "id": "77d7b3cf",
   "metadata": {},
   "outputs": [],
   "source": [
    "#hello welcome to data types"
   ]
  },
  {
   "cell_type": "markdown",
   "id": "ffb370c2",
   "metadata": {},
   "source": [
    "# LIST"
   ]
  },
  {
   "cell_type": "code",
   "execution_count": 234,
   "id": "b2bc3eef",
   "metadata": {},
   "outputs": [],
   "source": [
    "sample_list=[12,43,56,\"hi\",1+2j,4.5,True]"
   ]
  },
  {
   "cell_type": "code",
   "execution_count": 235,
   "id": "d48e9de4",
   "metadata": {},
   "outputs": [
    {
     "data": {
      "text/plain": [
       "list"
      ]
     },
     "execution_count": 235,
     "metadata": {},
     "output_type": "execute_result"
    }
   ],
   "source": [
    "type(sample_list)\n",
    "##type function"
   ]
  },
  {
   "cell_type": "code",
   "execution_count": 236,
   "id": "096401d9",
   "metadata": {},
   "outputs": [],
   "source": [
    "sample_list.reverse()"
   ]
  },
  {
   "cell_type": "code",
   "execution_count": 237,
   "id": "2264c45b",
   "metadata": {},
   "outputs": [
    {
     "data": {
      "text/plain": [
       "[True, 4.5, (1+2j), 'hi', 56, 43, 12]"
      ]
     },
     "execution_count": 237,
     "metadata": {},
     "output_type": "execute_result"
    }
   ],
   "source": [
    "sample_list"
   ]
  },
  {
   "cell_type": "code",
   "execution_count": 238,
   "id": "de295e50",
   "metadata": {},
   "outputs": [],
   "source": [
    "### create a list of natural numbers from 1 to 10\n",
    "Natural_numbers=[1,2,3,4,5,6,7,8,9,10]"
   ]
  },
  {
   "cell_type": "code",
   "execution_count": 239,
   "id": "23472f2d",
   "metadata": {},
   "outputs": [
    {
     "data": {
      "text/plain": [
       "[1, 2, 3, 4, 5, 6, 7, 8, 9, 10]"
      ]
     },
     "execution_count": 239,
     "metadata": {},
     "output_type": "execute_result"
    }
   ],
   "source": [
    "Natural_numbers"
   ]
  },
  {
   "cell_type": "code",
   "execution_count": 240,
   "id": "a305e7d8",
   "metadata": {},
   "outputs": [],
   "source": [
    "Natural_numbers.reverse()\n",
    "## using the reverse function"
   ]
  },
  {
   "cell_type": "code",
   "execution_count": 241,
   "id": "772b1c51",
   "metadata": {},
   "outputs": [
    {
     "data": {
      "text/plain": [
       "[10, 9, 8, 7, 6, 5, 4, 3, 2, 1]"
      ]
     },
     "execution_count": 241,
     "metadata": {},
     "output_type": "execute_result"
    }
   ],
   "source": [
    "Natural_numbers"
   ]
  },
  {
   "cell_type": "code",
   "execution_count": 242,
   "id": "c6c47984",
   "metadata": {},
   "outputs": [],
   "source": [
    "Natural_numbers.reverse()\n",
    "# reversing the reversed list"
   ]
  },
  {
   "cell_type": "code",
   "execution_count": 243,
   "id": "4c9b714e",
   "metadata": {},
   "outputs": [
    {
     "data": {
      "text/plain": [
       "[1, 2, 3, 4, 5, 6, 7, 8, 9, 10]"
      ]
     },
     "execution_count": 243,
     "metadata": {},
     "output_type": "execute_result"
    }
   ],
   "source": [
    "Natural_numbers\n"
   ]
  },
  {
   "cell_type": "code",
   "execution_count": 244,
   "id": "1ce8fb87",
   "metadata": {},
   "outputs": [
    {
     "data": {
      "text/plain": [
       "8"
      ]
     },
     "execution_count": 244,
     "metadata": {},
     "output_type": "execute_result"
    }
   ],
   "source": [
    "Natural_numbers[7]\n",
    "### retrieving element on index no 7"
   ]
  },
  {
   "cell_type": "code",
   "execution_count": 245,
   "id": "448cefb2",
   "metadata": {},
   "outputs": [],
   "source": [
    "Natural_numbers[9]=8\n"
   ]
  },
  {
   "cell_type": "code",
   "execution_count": 246,
   "id": "f2894a62",
   "metadata": {},
   "outputs": [
    {
     "data": {
      "text/plain": [
       "[1, 2, 3, 4, 5, 6, 7, 8, 9, 8]"
      ]
     },
     "execution_count": 246,
     "metadata": {},
     "output_type": "execute_result"
    }
   ],
   "source": [
    "Natural_numbers"
   ]
  },
  {
   "cell_type": "code",
   "execution_count": 247,
   "id": "dcc0fc75",
   "metadata": {},
   "outputs": [],
   "source": [
    "Natural_numbers.reverse()"
   ]
  },
  {
   "cell_type": "code",
   "execution_count": 248,
   "id": "0fd45dd1",
   "metadata": {},
   "outputs": [
    {
     "data": {
      "text/plain": [
       "[8, 9, 8, 7, 6, 5, 4, 3, 2, 1]"
      ]
     },
     "execution_count": 248,
     "metadata": {},
     "output_type": "execute_result"
    }
   ],
   "source": [
    "Natural_numbers\n"
   ]
  },
  {
   "cell_type": "code",
   "execution_count": 249,
   "id": "67951360",
   "metadata": {},
   "outputs": [],
   "source": [
    "### Adding 11 value to the list\n",
    "Natural_numbers.append(11)"
   ]
  },
  {
   "cell_type": "code",
   "execution_count": 250,
   "id": "ff00c024",
   "metadata": {},
   "outputs": [
    {
     "data": {
      "text/plain": [
       "[8, 9, 8, 7, 6, 5, 4, 3, 2, 1, 11]"
      ]
     },
     "execution_count": 250,
     "metadata": {},
     "output_type": "execute_result"
    }
   ],
   "source": [
    "Natural_numbers"
   ]
  },
  {
   "cell_type": "code",
   "execution_count": 251,
   "id": "667b2d51",
   "metadata": {},
   "outputs": [],
   "source": [
    "### sorting all the elements in the list\n",
    "Natural_numbers.sort()"
   ]
  },
  {
   "cell_type": "code",
   "execution_count": 252,
   "id": "bfd12958",
   "metadata": {},
   "outputs": [
    {
     "data": {
      "text/plain": [
       "[1, 2, 3, 4, 5, 6, 7, 8, 8, 9, 11]"
      ]
     },
     "execution_count": 252,
     "metadata": {},
     "output_type": "execute_result"
    }
   ],
   "source": [
    "Natural_numbers"
   ]
  },
  {
   "cell_type": "code",
   "execution_count": 253,
   "id": "d25e87d2",
   "metadata": {},
   "outputs": [],
   "source": [
    "Natural_numbers.append(10)"
   ]
  },
  {
   "cell_type": "code",
   "execution_count": 254,
   "id": "b9a0299f",
   "metadata": {},
   "outputs": [
    {
     "data": {
      "text/plain": [
       "[1, 2, 3, 4, 5, 6, 7, 8, 8, 9, 11, 10]"
      ]
     },
     "execution_count": 254,
     "metadata": {},
     "output_type": "execute_result"
    }
   ],
   "source": [
    "Natural_numbers"
   ]
  },
  {
   "cell_type": "code",
   "execution_count": 255,
   "id": "ce54080b",
   "metadata": {},
   "outputs": [],
   "source": [
    "Natural_numbers.sort()"
   ]
  },
  {
   "cell_type": "code",
   "execution_count": 256,
   "id": "f9fddedf",
   "metadata": {},
   "outputs": [
    {
     "data": {
      "text/plain": [
       "[1, 2, 3, 4, 5, 6, 7, 8, 8, 9, 10, 11]"
      ]
     },
     "execution_count": 256,
     "metadata": {},
     "output_type": "execute_result"
    }
   ],
   "source": [
    "Natural_numbers"
   ]
  },
  {
   "cell_type": "code",
   "execution_count": 257,
   "id": "b5986f13",
   "metadata": {},
   "outputs": [],
   "source": [
    "alldatalist=[1,2.2,3+4j,\"five\"]"
   ]
  },
  {
   "cell_type": "code",
   "execution_count": 258,
   "id": "3bda1a9e",
   "metadata": {},
   "outputs": [
    {
     "data": {
      "text/plain": [
       "[1, 2.2, (3+4j), 'five']"
      ]
     },
     "execution_count": 258,
     "metadata": {},
     "output_type": "execute_result"
    }
   ],
   "source": [
    "alldatalist"
   ]
  },
  {
   "cell_type": "code",
   "execution_count": 259,
   "id": "5a105c1a",
   "metadata": {},
   "outputs": [],
   "source": [
    "alldatalist.reverse()"
   ]
  },
  {
   "cell_type": "code",
   "execution_count": 260,
   "id": "f85d5710",
   "metadata": {},
   "outputs": [
    {
     "data": {
      "text/plain": [
       "['five', (3+4j), 2.2, 1]"
      ]
     },
     "execution_count": 260,
     "metadata": {},
     "output_type": "execute_result"
    }
   ],
   "source": [
    "alldatalist\n"
   ]
  },
  {
   "cell_type": "code",
   "execution_count": 261,
   "id": "80bca38d",
   "metadata": {},
   "outputs": [
    {
     "ename": "TypeError",
     "evalue": "'<' not supported between instances of 'complex' and 'str'",
     "output_type": "error",
     "traceback": [
      "\u001b[1;31m---------------------------------------------------------------------------\u001b[0m",
      "\u001b[1;31mTypeError\u001b[0m                                 Traceback (most recent call last)",
      "\u001b[1;32m<ipython-input-261-6d4c8b897bbb>\u001b[0m in \u001b[0;36m<module>\u001b[1;34m\u001b[0m\n\u001b[1;32m----> 1\u001b[1;33m \u001b[0malldatalist\u001b[0m\u001b[1;33m.\u001b[0m\u001b[0msort\u001b[0m\u001b[1;33m(\u001b[0m\u001b[1;33m)\u001b[0m\u001b[1;33m\u001b[0m\u001b[1;33m\u001b[0m\u001b[0m\n\u001b[0m\u001b[0;32m      2\u001b[0m \u001b[1;33m\u001b[0m\u001b[0m\n\u001b[0;32m      3\u001b[0m \u001b[1;31m### string and complex cannot be sorted\u001b[0m\u001b[1;33m\u001b[0m\u001b[1;33m\u001b[0m\u001b[1;33m\u001b[0m\u001b[0m\n",
      "\u001b[1;31mTypeError\u001b[0m: '<' not supported between instances of 'complex' and 'str'"
     ]
    }
   ],
   "source": [
    "alldatalist.sort()\n",
    "\n",
    "### string and complex cannot be sorted"
   ]
  },
  {
   "cell_type": "code",
   "execution_count": null,
   "id": "b7d56adc",
   "metadata": {},
   "outputs": [],
   "source": [
    "##list of float and integers only\n",
    "newlist=[1,2,5,3,6.6,8.9,1.2,3.3]\n"
   ]
  },
  {
   "cell_type": "code",
   "execution_count": null,
   "id": "9813bcc9",
   "metadata": {},
   "outputs": [],
   "source": [
    "newlist"
   ]
  },
  {
   "cell_type": "code",
   "execution_count": null,
   "id": "cb6ab23e",
   "metadata": {},
   "outputs": [],
   "source": [
    "newlist.reverse()"
   ]
  },
  {
   "cell_type": "code",
   "execution_count": null,
   "id": "4287af43",
   "metadata": {},
   "outputs": [],
   "source": [
    "newlist"
   ]
  },
  {
   "cell_type": "code",
   "execution_count": null,
   "id": "3bb3ba0f",
   "metadata": {},
   "outputs": [],
   "source": [
    "newlist.sort()"
   ]
  },
  {
   "cell_type": "code",
   "execution_count": null,
   "id": "1e28a62c",
   "metadata": {},
   "outputs": [],
   "source": [
    "newlist"
   ]
  },
  {
   "cell_type": "code",
   "execution_count": null,
   "id": "cb3ebdc4",
   "metadata": {},
   "outputs": [],
   "source": [
    "### therefore onnly integers and float can be sorted\n",
    "### complex and strings cannot be sorted if the list is hetrogenous\n"
   ]
  },
  {
   "cell_type": "code",
   "execution_count": null,
   "id": "16806ba8",
   "metadata": {},
   "outputs": [],
   "source": [
    "strlist=[\"apple\", \"cherry\", \"banana\", \"kiwi\", \"guava\", \"pineapple\"]"
   ]
  },
  {
   "cell_type": "code",
   "execution_count": null,
   "id": "3c92fb04",
   "metadata": {},
   "outputs": [],
   "source": [
    "strlist"
   ]
  },
  {
   "cell_type": "code",
   "execution_count": null,
   "id": "02fa9d1b",
   "metadata": {},
   "outputs": [],
   "source": [
    "strlist.reverse()"
   ]
  },
  {
   "cell_type": "code",
   "execution_count": null,
   "id": "8020fdb7",
   "metadata": {},
   "outputs": [],
   "source": [
    "strlist\n"
   ]
  },
  {
   "cell_type": "code",
   "execution_count": null,
   "id": "2fce7a29",
   "metadata": {},
   "outputs": [],
   "source": [
    "### searching for the element in the list\n",
    "print(\"banana\" in strlist)"
   ]
  },
  {
   "cell_type": "code",
   "execution_count": null,
   "id": "c84ca64a",
   "metadata": {},
   "outputs": [],
   "source": [
    "print(\"Mango\" in strlist)\n",
    "### could not find the fruit in the list"
   ]
  },
  {
   "cell_type": "code",
   "execution_count": null,
   "id": "809fa551",
   "metadata": {},
   "outputs": [],
   "source": [
    "strlist.sort()\n",
    "### list is sorted alphabetically using sort() function"
   ]
  },
  {
   "cell_type": "code",
   "execution_count": null,
   "id": "d6f347f2",
   "metadata": {},
   "outputs": [],
   "source": [
    "strlist\n"
   ]
  },
  {
   "cell_type": "code",
   "execution_count": null,
   "id": "0c94cf89",
   "metadata": {},
   "outputs": [],
   "source": [
    "for fruits in strlist:\n",
    "    print(fruits)"
   ]
  },
  {
   "cell_type": "code",
   "execution_count": null,
   "id": "2e159fa0",
   "metadata": {},
   "outputs": [],
   "source": [
    "## length of the list\n",
    "len(strlist)"
   ]
  },
  {
   "cell_type": "code",
   "execution_count": null,
   "id": "c3d7f6a9",
   "metadata": {},
   "outputs": [],
   "source": [
    "Numbers=[1,2,2.2,2.34,5,6,3.2,4.5,8,9]"
   ]
  },
  {
   "cell_type": "code",
   "execution_count": null,
   "id": "7eb16e02",
   "metadata": {},
   "outputs": [],
   "source": [
    "Numbers"
   ]
  },
  {
   "cell_type": "code",
   "execution_count": null,
   "id": "4cd066fa",
   "metadata": {},
   "outputs": [],
   "source": [
    "## length of the list\n",
    "len(Numbers)"
   ]
  },
  {
   "cell_type": "code",
   "execution_count": null,
   "id": "8d6d0817",
   "metadata": {},
   "outputs": [],
   "source": [
    "### maximum of the list\n",
    "max(Numbers)"
   ]
  },
  {
   "cell_type": "code",
   "execution_count": null,
   "id": "8643da39",
   "metadata": {},
   "outputs": [],
   "source": [
    "### minimum of the list\n",
    "min(Numbers)"
   ]
  },
  {
   "cell_type": "code",
   "execution_count": null,
   "id": "00b87a99",
   "metadata": {},
   "outputs": [],
   "source": [
    "### clearing the entire list\n",
    "Numbers.clear()"
   ]
  },
  {
   "cell_type": "code",
   "execution_count": null,
   "id": "c4812b83",
   "metadata": {},
   "outputs": [],
   "source": [
    "Numbers"
   ]
  },
  {
   "cell_type": "code",
   "execution_count": null,
   "id": "32b05a86",
   "metadata": {},
   "outputs": [],
   "source": [
    "abc=[1,2,3,4,5]\n",
    "xyz=[True,1,2,5,7.6]"
   ]
  },
  {
   "cell_type": "code",
   "execution_count": null,
   "id": "2e252578",
   "metadata": {},
   "outputs": [],
   "source": [
    "abc"
   ]
  },
  {
   "cell_type": "code",
   "execution_count": null,
   "id": "8201cd45",
   "metadata": {},
   "outputs": [],
   "source": [
    "xyz"
   ]
  },
  {
   "cell_type": "code",
   "execution_count": null,
   "id": "73083e91",
   "metadata": {},
   "outputs": [],
   "source": [
    "### adding two lists\n",
    "mno=abc+xyz\n"
   ]
  },
  {
   "cell_type": "code",
   "execution_count": null,
   "id": "df30c5e7",
   "metadata": {},
   "outputs": [],
   "source": [
    "mno"
   ]
  },
  {
   "cell_type": "code",
   "execution_count": 262,
   "id": "39abf8e5",
   "metadata": {},
   "outputs": [],
   "source": [
    "### create a list of int and float data type\n",
    "### find the number of elements in the list\n",
    "### find the maximum value in the list\n",
    "### add an element to the list\n",
    "### create a copy of the list\n",
    "### return index position of an object\n",
    "### insert a new element at the specific index number\n",
    "### Delete an element from the list\n",
    "### reverse a list\n",
    "### sort the list\n",
    "### remove all the elements from the list"
   ]
  },
  {
   "cell_type": "code",
   "execution_count": 263,
   "id": "fe959513",
   "metadata": {},
   "outputs": [],
   "source": [
    "### create a list of int and float data type\n",
    "prime=[3,5,7,11,13,17,19,23,29]"
   ]
  },
  {
   "cell_type": "code",
   "execution_count": 264,
   "id": "52119dc9",
   "metadata": {},
   "outputs": [
    {
     "data": {
      "text/plain": [
       "[3, 5, 7, 11, 13, 17, 19, 23, 29]"
      ]
     },
     "execution_count": 264,
     "metadata": {},
     "output_type": "execute_result"
    }
   ],
   "source": [
    "prime"
   ]
  },
  {
   "cell_type": "code",
   "execution_count": 265,
   "id": "fef1957b",
   "metadata": {},
   "outputs": [
    {
     "data": {
      "text/plain": [
       "9"
      ]
     },
     "execution_count": 265,
     "metadata": {},
     "output_type": "execute_result"
    }
   ],
   "source": [
    "### find the number of elements in the list\n",
    "len(prime)"
   ]
  },
  {
   "cell_type": "code",
   "execution_count": 266,
   "id": "4abb31e9",
   "metadata": {},
   "outputs": [
    {
     "data": {
      "text/plain": [
       "29"
      ]
     },
     "execution_count": 266,
     "metadata": {},
     "output_type": "execute_result"
    }
   ],
   "source": [
    "### find the maximum value in the list\n",
    "max(prime)"
   ]
  },
  {
   "cell_type": "code",
   "execution_count": 267,
   "id": "cfe27c30",
   "metadata": {},
   "outputs": [
    {
     "data": {
      "text/plain": [
       "3"
      ]
     },
     "execution_count": 267,
     "metadata": {},
     "output_type": "execute_result"
    }
   ],
   "source": [
    "##  find the minimum value in the list\n",
    "min(prime)"
   ]
  },
  {
   "cell_type": "code",
   "execution_count": 268,
   "id": "1e3e627b",
   "metadata": {},
   "outputs": [],
   "source": [
    "### add an element to the list\n",
    "prime.append(31)"
   ]
  },
  {
   "cell_type": "code",
   "execution_count": 269,
   "id": "40ca3b16",
   "metadata": {},
   "outputs": [
    {
     "data": {
      "text/plain": [
       "[3, 5, 7, 11, 13, 17, 19, 23, 29, 31]"
      ]
     },
     "execution_count": 269,
     "metadata": {},
     "output_type": "execute_result"
    }
   ],
   "source": [
    "prime"
   ]
  },
  {
   "cell_type": "code",
   "execution_count": 270,
   "id": "f8bf83f8",
   "metadata": {},
   "outputs": [
    {
     "data": {
      "text/plain": [
       "[3, 5, 7, 11, 13, 17, 19, 23, 29, 31]"
      ]
     },
     "execution_count": 270,
     "metadata": {},
     "output_type": "execute_result"
    }
   ],
   "source": [
    "### create a copy of the list\n",
    "\n",
    "prime.copy()"
   ]
  },
  {
   "cell_type": "code",
   "execution_count": 271,
   "id": "f4274d28",
   "metadata": {},
   "outputs": [],
   "source": [
    "not_com=prime"
   ]
  },
  {
   "cell_type": "code",
   "execution_count": 272,
   "id": "8cfd0031",
   "metadata": {},
   "outputs": [
    {
     "data": {
      "text/plain": [
       "[3, 5, 7, 11, 13, 17, 19, 23, 29, 31]"
      ]
     },
     "execution_count": 272,
     "metadata": {},
     "output_type": "execute_result"
    }
   ],
   "source": [
    "not_com"
   ]
  },
  {
   "cell_type": "code",
   "execution_count": 273,
   "id": "654670dd",
   "metadata": {},
   "outputs": [
    {
     "data": {
      "text/plain": [
       "[3, 5, 7, 11, 13, 17, 19, 23, 29, 31]"
      ]
     },
     "execution_count": 273,
     "metadata": {},
     "output_type": "execute_result"
    }
   ],
   "source": [
    "prime"
   ]
  },
  {
   "cell_type": "code",
   "execution_count": 274,
   "id": "fb7a4266",
   "metadata": {},
   "outputs": [
    {
     "data": {
      "text/plain": [
       "[3, 5, 7, 11, 13, 17, 19, 23, 29, 31]"
      ]
     },
     "execution_count": 274,
     "metadata": {},
     "output_type": "execute_result"
    }
   ],
   "source": [
    "prime"
   ]
  },
  {
   "cell_type": "code",
   "execution_count": 275,
   "id": "c5497779",
   "metadata": {},
   "outputs": [
    {
     "data": {
      "text/plain": [
       "4"
      ]
     },
     "execution_count": 275,
     "metadata": {},
     "output_type": "execute_result"
    }
   ],
   "source": [
    "### return index position of an object\n",
    "\n",
    "prime.index(13)\n"
   ]
  },
  {
   "cell_type": "code",
   "execution_count": 276,
   "id": "47b729a5",
   "metadata": {},
   "outputs": [],
   "source": [
    "### insert a new element at the specific index number\n",
    "\n",
    "prime.insert(11,37)\n"
   ]
  },
  {
   "cell_type": "code",
   "execution_count": 277,
   "id": "27aca81e",
   "metadata": {},
   "outputs": [
    {
     "data": {
      "text/plain": [
       "[3, 5, 7, 11, 13, 17, 19, 23, 29, 31, 37]"
      ]
     },
     "execution_count": 277,
     "metadata": {},
     "output_type": "execute_result"
    }
   ],
   "source": [
    "prime"
   ]
  },
  {
   "cell_type": "code",
   "execution_count": 278,
   "id": "5976aba5",
   "metadata": {},
   "outputs": [],
   "source": [
    "### Delete an element from the list\n",
    "\n",
    "prime.remove(13)"
   ]
  },
  {
   "cell_type": "code",
   "execution_count": 279,
   "id": "cf912610",
   "metadata": {},
   "outputs": [
    {
     "data": {
      "text/plain": [
       "[3, 5, 7, 11, 17, 19, 23, 29, 31, 37]"
      ]
     },
     "execution_count": 279,
     "metadata": {},
     "output_type": "execute_result"
    }
   ],
   "source": [
    "prime"
   ]
  },
  {
   "cell_type": "code",
   "execution_count": 280,
   "id": "af876293",
   "metadata": {},
   "outputs": [],
   "source": [
    "prime.insert(4,13)"
   ]
  },
  {
   "cell_type": "code",
   "execution_count": 281,
   "id": "0fe6b8c6",
   "metadata": {},
   "outputs": [
    {
     "data": {
      "text/plain": [
       "[3, 5, 7, 11, 13, 17, 19, 23, 29, 31, 37]"
      ]
     },
     "execution_count": 281,
     "metadata": {},
     "output_type": "execute_result"
    }
   ],
   "source": [
    "prime"
   ]
  },
  {
   "cell_type": "code",
   "execution_count": 282,
   "id": "ac55e967",
   "metadata": {},
   "outputs": [],
   "source": [
    "prime.remove(37)"
   ]
  },
  {
   "cell_type": "code",
   "execution_count": 283,
   "id": "93541289",
   "metadata": {},
   "outputs": [
    {
     "data": {
      "text/plain": [
       "[3, 5, 7, 11, 13, 17, 19, 23, 29, 31]"
      ]
     },
     "execution_count": 283,
     "metadata": {},
     "output_type": "execute_result"
    }
   ],
   "source": [
    "prime"
   ]
  },
  {
   "cell_type": "code",
   "execution_count": 284,
   "id": "9e9a8fa6",
   "metadata": {},
   "outputs": [],
   "source": [
    "### reverse a list\n",
    "\n",
    "prime.reverse()"
   ]
  },
  {
   "cell_type": "code",
   "execution_count": 285,
   "id": "dff8960c",
   "metadata": {},
   "outputs": [
    {
     "data": {
      "text/plain": [
       "[31, 29, 23, 19, 17, 13, 11, 7, 5, 3]"
      ]
     },
     "execution_count": 285,
     "metadata": {},
     "output_type": "execute_result"
    }
   ],
   "source": [
    "prime"
   ]
  },
  {
   "cell_type": "code",
   "execution_count": 286,
   "id": "d4037161",
   "metadata": {},
   "outputs": [],
   "source": [
    "### sort the list\n",
    "\n",
    "prime.sort()"
   ]
  },
  {
   "cell_type": "code",
   "execution_count": 287,
   "id": "d46008f4",
   "metadata": {},
   "outputs": [
    {
     "data": {
      "text/plain": [
       "[3, 5, 7, 11, 13, 17, 19, 23, 29, 31]"
      ]
     },
     "execution_count": 287,
     "metadata": {},
     "output_type": "execute_result"
    }
   ],
   "source": [
    "prime"
   ]
  },
  {
   "cell_type": "code",
   "execution_count": 288,
   "id": "68755bba",
   "metadata": {},
   "outputs": [],
   "source": [
    "### remove all the elements from the list\n",
    "prime.clear()"
   ]
  },
  {
   "cell_type": "code",
   "execution_count": 289,
   "id": "3144987e",
   "metadata": {},
   "outputs": [
    {
     "data": {
      "text/plain": [
       "[]"
      ]
     },
     "execution_count": 289,
     "metadata": {},
     "output_type": "execute_result"
    }
   ],
   "source": [
    "prime"
   ]
  },
  {
   "cell_type": "markdown",
   "id": "db78dcb2",
   "metadata": {},
   "source": [
    "# Tuple\n"
   ]
  },
  {
   "cell_type": "code",
   "execution_count": 290,
   "id": "4af834ad",
   "metadata": {},
   "outputs": [],
   "source": [
    "### instead of square brackets , round brackets are used in Tuple\n",
    "### round brackets are not compulsory, without brackets also we can create tuple\n",
    "### allows heterogenous\n",
    "### retrieve using index\n",
    "### cannot change the elements once declared - immutable"
   ]
  },
  {
   "cell_type": "code",
   "execution_count": 291,
   "id": "e214ed67",
   "metadata": {},
   "outputs": [],
   "source": [
    "### creating a tuple using round brackets\n",
    "tup=(1,2,3,4,5.5,6+4j,\"hello\")"
   ]
  },
  {
   "cell_type": "code",
   "execution_count": 292,
   "id": "22bbda40",
   "metadata": {},
   "outputs": [
    {
     "data": {
      "text/plain": [
       "(1, 2, 3, 4, 5.5, (6+4j), 'hello')"
      ]
     },
     "execution_count": 292,
     "metadata": {},
     "output_type": "execute_result"
    }
   ],
   "source": [
    "tup"
   ]
  },
  {
   "cell_type": "code",
   "execution_count": 293,
   "id": "b74f1556",
   "metadata": {},
   "outputs": [
    {
     "data": {
      "text/plain": [
       "tuple"
      ]
     },
     "execution_count": 293,
     "metadata": {},
     "output_type": "execute_result"
    }
   ],
   "source": [
    "type(tup)"
   ]
  },
  {
   "cell_type": "code",
   "execution_count": 294,
   "id": "3ce964aa",
   "metadata": {},
   "outputs": [],
   "source": [
    "### checking if paranthesis is required for tuple\n",
    "tup=1,2,3,4,5"
   ]
  },
  {
   "cell_type": "code",
   "execution_count": 295,
   "id": "2f92a470",
   "metadata": {},
   "outputs": [
    {
     "data": {
      "text/plain": [
       "tuple"
      ]
     },
     "execution_count": 295,
     "metadata": {},
     "output_type": "execute_result"
    }
   ],
   "source": [
    "type(tup)"
   ]
  },
  {
   "cell_type": "code",
   "execution_count": null,
   "id": "5ceedb06",
   "metadata": {},
   "outputs": [],
   "source": [
    "### therefore paranthesis are not required for tuple"
   ]
  },
  {
   "cell_type": "code",
   "execution_count": 296,
   "id": "088ceb2e",
   "metadata": {},
   "outputs": [],
   "source": [
    "tup=(1,2,3,4,5.5,6+4j,\"hello\")"
   ]
  },
  {
   "cell_type": "code",
   "execution_count": 297,
   "id": "9bd182db",
   "metadata": {},
   "outputs": [
    {
     "data": {
      "text/plain": [
       "(1, 2, 3, 4, 5.5, (6+4j), 'hello')"
      ]
     },
     "execution_count": 297,
     "metadata": {},
     "output_type": "execute_result"
    }
   ],
   "source": [
    "tup"
   ]
  },
  {
   "cell_type": "code",
   "execution_count": 298,
   "id": "3a2719f1",
   "metadata": {},
   "outputs": [
    {
     "data": {
      "text/plain": [
       "(6+4j)"
      ]
     },
     "execution_count": 298,
     "metadata": {},
     "output_type": "execute_result"
    }
   ],
   "source": [
    "tup[5]"
   ]
  },
  {
   "cell_type": "code",
   "execution_count": 299,
   "id": "ba830f20",
   "metadata": {},
   "outputs": [
    {
     "ename": "AttributeError",
     "evalue": "'tuple' object has no attribute 'reverse'",
     "output_type": "error",
     "traceback": [
      "\u001b[1;31m---------------------------------------------------------------------------\u001b[0m",
      "\u001b[1;31mAttributeError\u001b[0m                            Traceback (most recent call last)",
      "\u001b[1;32m<ipython-input-299-6d18082c5c1d>\u001b[0m in \u001b[0;36m<module>\u001b[1;34m\u001b[0m\n\u001b[1;32m----> 1\u001b[1;33m \u001b[0mtup\u001b[0m\u001b[1;33m.\u001b[0m\u001b[0mreverse\u001b[0m\u001b[1;33m(\u001b[0m\u001b[1;33m)\u001b[0m\u001b[1;33m\u001b[0m\u001b[1;33m\u001b[0m\u001b[0m\n\u001b[0m",
      "\u001b[1;31mAttributeError\u001b[0m: 'tuple' object has no attribute 'reverse'"
     ]
    }
   ],
   "source": [
    "tup.reverse()"
   ]
  },
  {
   "cell_type": "code",
   "execution_count": 300,
   "id": "7b251907",
   "metadata": {},
   "outputs": [
    {
     "ename": "TypeError",
     "evalue": "'tuple' object does not support item assignment",
     "output_type": "error",
     "traceback": [
      "\u001b[1;31m---------------------------------------------------------------------------\u001b[0m",
      "\u001b[1;31mTypeError\u001b[0m                                 Traceback (most recent call last)",
      "\u001b[1;32m<ipython-input-300-c765daa2f356>\u001b[0m in \u001b[0;36m<module>\u001b[1;34m\u001b[0m\n\u001b[1;32m----> 1\u001b[1;33m \u001b[0mtup\u001b[0m\u001b[1;33m[\u001b[0m\u001b[1;36m2\u001b[0m\u001b[1;33m]\u001b[0m\u001b[1;33m=\u001b[0m\u001b[1;36m9\u001b[0m\u001b[1;33m\u001b[0m\u001b[1;33m\u001b[0m\u001b[0m\n\u001b[0m",
      "\u001b[1;31mTypeError\u001b[0m: 'tuple' object does not support item assignment"
     ]
    }
   ],
   "source": [
    "tup[2]=9"
   ]
  },
  {
   "cell_type": "code",
   "execution_count": null,
   "id": "01bbc42c",
   "metadata": {},
   "outputs": [],
   "source": [
    "### therefore once the tuple is created it cannot be changed\n",
    "### it cannot be reversed\n",
    "### existing elements cannot be changed"
   ]
  },
  {
   "cell_type": "code",
   "execution_count": 301,
   "id": "0a018825",
   "metadata": {},
   "outputs": [],
   "source": [
    "tupp=1,2,3.3,4.5,6.7,3,5,8"
   ]
  },
  {
   "cell_type": "code",
   "execution_count": 302,
   "id": "1433c518",
   "metadata": {},
   "outputs": [
    {
     "data": {
      "text/plain": [
       "(1, 2, 3.3, 4.5, 6.7, 3, 5, 8)"
      ]
     },
     "execution_count": 302,
     "metadata": {},
     "output_type": "execute_result"
    }
   ],
   "source": [
    "tupp\n"
   ]
  },
  {
   "cell_type": "code",
   "execution_count": 304,
   "id": "2aece0ea",
   "metadata": {},
   "outputs": [
    {
     "data": {
      "text/plain": [
       "tuple"
      ]
     },
     "execution_count": 304,
     "metadata": {},
     "output_type": "execute_result"
    }
   ],
   "source": [
    "type(tupp)"
   ]
  },
  {
   "cell_type": "code",
   "execution_count": 303,
   "id": "1b1825d5",
   "metadata": {},
   "outputs": [
    {
     "ename": "AttributeError",
     "evalue": "'tuple' object has no attribute 'sort'",
     "output_type": "error",
     "traceback": [
      "\u001b[1;31m---------------------------------------------------------------------------\u001b[0m",
      "\u001b[1;31mAttributeError\u001b[0m                            Traceback (most recent call last)",
      "\u001b[1;32m<ipython-input-303-e8b3a05c63ce>\u001b[0m in \u001b[0;36m<module>\u001b[1;34m\u001b[0m\n\u001b[1;32m----> 1\u001b[1;33m \u001b[0mtupp\u001b[0m\u001b[1;33m.\u001b[0m\u001b[0msort\u001b[0m\u001b[1;33m(\u001b[0m\u001b[1;33m)\u001b[0m\u001b[1;33m\u001b[0m\u001b[1;33m\u001b[0m\u001b[0m\n\u001b[0m",
      "\u001b[1;31mAttributeError\u001b[0m: 'tuple' object has no attribute 'sort'"
     ]
    }
   ],
   "source": [
    "tupp.sort()"
   ]
  },
  {
   "cell_type": "code",
   "execution_count": 305,
   "id": "ea9b4bcd",
   "metadata": {},
   "outputs": [
    {
     "data": {
      "text/plain": [
       "[1, 2, 3, 3.3, 4.5, 5, 6.7, 8]"
      ]
     },
     "execution_count": 305,
     "metadata": {},
     "output_type": "execute_result"
    }
   ],
   "source": [
    "### there is another way to sort the tuple\n",
    "sorted(tupp)"
   ]
  },
  {
   "cell_type": "code",
   "execution_count": 306,
   "id": "ec0408a1",
   "metadata": {},
   "outputs": [
    {
     "data": {
      "text/plain": [
       "(1, 2, 3.3, 4.5, 6.7, 3, 5, 8)"
      ]
     },
     "execution_count": 306,
     "metadata": {},
     "output_type": "execute_result"
    }
   ],
   "source": [
    "tupp"
   ]
  },
  {
   "cell_type": "code",
   "execution_count": 308,
   "id": "89b5f409",
   "metadata": {},
   "outputs": [
    {
     "data": {
      "text/plain": [
       "[8, 6.7, 5, 4.5, 3.3, 3, 2, 1]"
      ]
     },
     "execution_count": 308,
     "metadata": {},
     "output_type": "execute_result"
    }
   ],
   "source": [
    "### this is reversing the sorted tuple, not the original tuple\n",
    "sorted(tupp,reverse=True)"
   ]
  },
  {
   "cell_type": "code",
   "execution_count": 309,
   "id": "625cd8d1",
   "metadata": {},
   "outputs": [],
   "source": [
    "### creating n variable\n",
    "n=4"
   ]
  },
  {
   "cell_type": "code",
   "execution_count": 310,
   "id": "f18976e5",
   "metadata": {},
   "outputs": [],
   "source": [
    "### creating a new tuple\n",
    "rep_tuple=tupp*n"
   ]
  },
  {
   "cell_type": "code",
   "execution_count": 311,
   "id": "cd65e27c",
   "metadata": {},
   "outputs": [
    {
     "data": {
      "text/plain": [
       "(1,\n",
       " 2,\n",
       " 3.3,\n",
       " 4.5,\n",
       " 6.7,\n",
       " 3,\n",
       " 5,\n",
       " 8,\n",
       " 1,\n",
       " 2,\n",
       " 3.3,\n",
       " 4.5,\n",
       " 6.7,\n",
       " 3,\n",
       " 5,\n",
       " 8,\n",
       " 1,\n",
       " 2,\n",
       " 3.3,\n",
       " 4.5,\n",
       " 6.7,\n",
       " 3,\n",
       " 5,\n",
       " 8,\n",
       " 1,\n",
       " 2,\n",
       " 3.3,\n",
       " 4.5,\n",
       " 6.7,\n",
       " 3,\n",
       " 5,\n",
       " 8)"
      ]
     },
     "execution_count": 311,
     "metadata": {},
     "output_type": "execute_result"
    }
   ],
   "source": [
    "### all the elements get repeated n number of times \n",
    "rep_tuple"
   ]
  },
  {
   "cell_type": "code",
   "execution_count": 312,
   "id": "fb1c3c71",
   "metadata": {},
   "outputs": [
    {
     "data": {
      "text/plain": [
       "tuple"
      ]
     },
     "execution_count": 312,
     "metadata": {},
     "output_type": "execute_result"
    }
   ],
   "source": [
    "type(rep_tuple)"
   ]
  },
  {
   "cell_type": "code",
   "execution_count": 313,
   "id": "f4ff3406",
   "metadata": {},
   "outputs": [
    {
     "data": {
      "text/plain": [
       "(1, 2, 3.3, 4.5, 6.7, 3, 5, 8)"
      ]
     },
     "execution_count": 313,
     "metadata": {},
     "output_type": "execute_result"
    }
   ],
   "source": [
    "tupp\n"
   ]
  },
  {
   "cell_type": "code",
   "execution_count": 314,
   "id": "ac9afffd",
   "metadata": {},
   "outputs": [],
   "source": [
    "tuppp=10,11,12"
   ]
  },
  {
   "cell_type": "code",
   "execution_count": 315,
   "id": "80848967",
   "metadata": {},
   "outputs": [
    {
     "data": {
      "text/plain": [
       "(10, 11, 12)"
      ]
     },
     "execution_count": 315,
     "metadata": {},
     "output_type": "execute_result"
    }
   ],
   "source": [
    "tuppp"
   ]
  },
  {
   "cell_type": "code",
   "execution_count": 316,
   "id": "95b3ccad",
   "metadata": {},
   "outputs": [],
   "source": [
    "### concatenation of 2 tuple\n",
    "tupppp=tupp+tuppp"
   ]
  },
  {
   "cell_type": "code",
   "execution_count": 317,
   "id": "b00d5fee",
   "metadata": {},
   "outputs": [
    {
     "data": {
      "text/plain": [
       "(1, 2, 3.3, 4.5, 6.7, 3, 5, 8, 10, 11, 12)"
      ]
     },
     "execution_count": 317,
     "metadata": {},
     "output_type": "execute_result"
    }
   ],
   "source": [
    "tupppp"
   ]
  },
  {
   "cell_type": "code",
   "execution_count": 318,
   "id": "03a46fbc",
   "metadata": {},
   "outputs": [
    {
     "data": {
      "text/plain": [
       "tuple"
      ]
     },
     "execution_count": 318,
     "metadata": {},
     "output_type": "execute_result"
    }
   ],
   "source": [
    "type(tupppp)"
   ]
  },
  {
   "cell_type": "code",
   "execution_count": 319,
   "id": "5a8ec700",
   "metadata": {},
   "outputs": [
    {
     "name": "stdout",
     "output_type": "stream",
     "text": [
      "True\n"
     ]
    }
   ],
   "source": [
    "### check for a particular element\n",
    "### using 'in' operator\n",
    "print(12 in tupppp)"
   ]
  },
  {
   "cell_type": "code",
   "execution_count": 320,
   "id": "67a6d3fd",
   "metadata": {},
   "outputs": [
    {
     "data": {
      "text/plain": [
       "(1, 2, 3.3, 4.5, 6.7, 3, 5, 8)"
      ]
     },
     "execution_count": 320,
     "metadata": {},
     "output_type": "execute_result"
    }
   ],
   "source": [
    "tupp\n"
   ]
  },
  {
   "cell_type": "code",
   "execution_count": 321,
   "id": "5694dbdf",
   "metadata": {},
   "outputs": [
    {
     "name": "stdout",
     "output_type": "stream",
     "text": [
      "True\n"
     ]
    }
   ],
   "source": [
    "print (4.5 in tupp)"
   ]
  },
  {
   "cell_type": "code",
   "execution_count": 323,
   "id": "dc76c000",
   "metadata": {},
   "outputs": [
    {
     "name": "stdout",
     "output_type": "stream",
     "text": [
      "True\n"
     ]
    }
   ],
   "source": [
    "print(6 not in tupp)"
   ]
  },
  {
   "cell_type": "code",
   "execution_count": 324,
   "id": "73154521",
   "metadata": {},
   "outputs": [],
   "source": [
    "fruit=\"apple\",\"banana\",\"guava\",\"pineapple\""
   ]
  },
  {
   "cell_type": "code",
   "execution_count": 325,
   "id": "b2bb330a",
   "metadata": {},
   "outputs": [
    {
     "data": {
      "text/plain": [
       "('apple', 'banana', 'guava', 'pineapple')"
      ]
     },
     "execution_count": 325,
     "metadata": {},
     "output_type": "execute_result"
    }
   ],
   "source": [
    "fruit"
   ]
  },
  {
   "cell_type": "code",
   "execution_count": 326,
   "id": "eafe3637",
   "metadata": {},
   "outputs": [
    {
     "data": {
      "text/plain": [
       "tuple"
      ]
     },
     "execution_count": 326,
     "metadata": {},
     "output_type": "execute_result"
    }
   ],
   "source": [
    "type(fruit)"
   ]
  },
  {
   "cell_type": "code",
   "execution_count": 327,
   "id": "d29f572c",
   "metadata": {},
   "outputs": [
    {
     "name": "stdout",
     "output_type": "stream",
     "text": [
      "apple\n",
      "banana\n",
      "guava\n",
      "pineapple\n"
     ]
    }
   ],
   "source": [
    "### printing all the fruit names in tuple\n",
    "for fruits in fruit:\n",
    "    print(fruits)"
   ]
  },
  {
   "cell_type": "code",
   "execution_count": null,
   "id": "3652499e",
   "metadata": {},
   "outputs": [],
   "source": [
    "### create a tuple of int and float data type\n",
    "### find the number of elements in the tuple\n",
    "### find the maximum value in the tuple\n",
    "### add an element to the tuple\n",
    "### create a copy of the tuple\n",
    "### return index position of an object\n",
    "### insert a new element at the specific index number\n",
    "### Delete an element from the tuple\n",
    "### reverse a tuple\n",
    "### sort the tuple\n",
    "### remove all the elements from the tuple\n"
   ]
  },
  {
   "cell_type": "code",
   "execution_count": 328,
   "id": "290ca965",
   "metadata": {},
   "outputs": [],
   "source": [
    "### create a tuple of int and float data type\n",
    "\n",
    "t=1,5,3.3,3,4.1,4,5,6,0,7.5,1.2"
   ]
  },
  {
   "cell_type": "code",
   "execution_count": 329,
   "id": "baa3d8dc",
   "metadata": {},
   "outputs": [
    {
     "data": {
      "text/plain": [
       "tuple"
      ]
     },
     "execution_count": 329,
     "metadata": {},
     "output_type": "execute_result"
    }
   ],
   "source": [
    "type(t)"
   ]
  },
  {
   "cell_type": "code",
   "execution_count": 330,
   "id": "944e2db4",
   "metadata": {},
   "outputs": [
    {
     "data": {
      "text/plain": [
       "11"
      ]
     },
     "execution_count": 330,
     "metadata": {},
     "output_type": "execute_result"
    }
   ],
   "source": [
    "### find the number of elements in the tuple\n",
    "\n",
    "len(t)"
   ]
  },
  {
   "cell_type": "code",
   "execution_count": 332,
   "id": "f5f91b42",
   "metadata": {},
   "outputs": [
    {
     "data": {
      "text/plain": [
       "7.5"
      ]
     },
     "execution_count": 332,
     "metadata": {},
     "output_type": "execute_result"
    }
   ],
   "source": [
    "### find the maximum value in the tuple\n",
    "\n",
    "max(t)"
   ]
  },
  {
   "cell_type": "code",
   "execution_count": 333,
   "id": "c8187e23",
   "metadata": {},
   "outputs": [
    {
     "data": {
      "text/plain": [
       "0"
      ]
     },
     "execution_count": 333,
     "metadata": {},
     "output_type": "execute_result"
    }
   ],
   "source": [
    "### find the minimum value in the tuple\n",
    "\n",
    "min(t)\n"
   ]
  },
  {
   "cell_type": "code",
   "execution_count": 334,
   "id": "0fe7dc18",
   "metadata": {},
   "outputs": [
    {
     "ename": "AttributeError",
     "evalue": "'tuple' object has no attribute 'append'",
     "output_type": "error",
     "traceback": [
      "\u001b[1;31m---------------------------------------------------------------------------\u001b[0m",
      "\u001b[1;31mAttributeError\u001b[0m                            Traceback (most recent call last)",
      "\u001b[1;32m<ipython-input-334-afe4158d4ce9>\u001b[0m in \u001b[0;36m<module>\u001b[1;34m\u001b[0m\n\u001b[1;32m----> 1\u001b[1;33m \u001b[0mt\u001b[0m\u001b[1;33m.\u001b[0m\u001b[0mappend\u001b[0m\u001b[1;33m(\u001b[0m\u001b[1;36m11\u001b[0m\u001b[1;33m)\u001b[0m\u001b[1;33m\u001b[0m\u001b[1;33m\u001b[0m\u001b[0m\n\u001b[0m",
      "\u001b[1;31mAttributeError\u001b[0m: 'tuple' object has no attribute 'append'"
     ]
    }
   ],
   "source": [
    "### add an element to the tuple\n",
    "### it is immutable\n",
    "### append will not work \n",
    "\n",
    "t.append(11)"
   ]
  },
  {
   "cell_type": "code",
   "execution_count": 335,
   "id": "5f5940ed",
   "metadata": {},
   "outputs": [
    {
     "ename": "AttributeError",
     "evalue": "'tuple' object has no attribute 'copy'",
     "output_type": "error",
     "traceback": [
      "\u001b[1;31m---------------------------------------------------------------------------\u001b[0m",
      "\u001b[1;31mAttributeError\u001b[0m                            Traceback (most recent call last)",
      "\u001b[1;32m<ipython-input-335-06d033999b14>\u001b[0m in \u001b[0;36m<module>\u001b[1;34m\u001b[0m\n\u001b[1;32m----> 1\u001b[1;33m \u001b[0mt\u001b[0m\u001b[1;33m.\u001b[0m\u001b[0mcopy\u001b[0m\u001b[1;33m(\u001b[0m\u001b[1;33m)\u001b[0m\u001b[1;33m\u001b[0m\u001b[1;33m\u001b[0m\u001b[0m\n\u001b[0m",
      "\u001b[1;31mAttributeError\u001b[0m: 'tuple' object has no attribute 'copy'"
     ]
    }
   ],
   "source": [
    "### create a copy of the tuple\n",
    "\n",
    "t.copy()"
   ]
  },
  {
   "cell_type": "code",
   "execution_count": 336,
   "id": "745cc91a",
   "metadata": {},
   "outputs": [
    {
     "data": {
      "text/plain": [
       "9"
      ]
     },
     "execution_count": 336,
     "metadata": {},
     "output_type": "execute_result"
    }
   ],
   "source": [
    "### return index position of an object\n",
    "\n",
    "t.index(7.5)"
   ]
  },
  {
   "cell_type": "code",
   "execution_count": 337,
   "id": "a90c077b",
   "metadata": {},
   "outputs": [
    {
     "ename": "AttributeError",
     "evalue": "'tuple' object has no attribute 'insert'",
     "output_type": "error",
     "traceback": [
      "\u001b[1;31m---------------------------------------------------------------------------\u001b[0m",
      "\u001b[1;31mAttributeError\u001b[0m                            Traceback (most recent call last)",
      "\u001b[1;32m<ipython-input-337-366db043e738>\u001b[0m in \u001b[0;36m<module>\u001b[1;34m\u001b[0m\n\u001b[1;32m----> 1\u001b[1;33m \u001b[0mt\u001b[0m\u001b[1;33m.\u001b[0m\u001b[0minsert\u001b[0m\u001b[1;33m(\u001b[0m\u001b[1;36m3\u001b[0m\u001b[1;33m,\u001b[0m\u001b[1;36m15\u001b[0m\u001b[1;33m)\u001b[0m\u001b[1;33m\u001b[0m\u001b[1;33m\u001b[0m\u001b[0m\n\u001b[0m",
      "\u001b[1;31mAttributeError\u001b[0m: 'tuple' object has no attribute 'insert'"
     ]
    }
   ],
   "source": [
    "### insert a new element at the specific index number\n",
    "## immutable\n",
    "## will not work\n",
    "\n",
    "\n",
    "t.insert(3,15)"
   ]
  },
  {
   "cell_type": "code",
   "execution_count": 338,
   "id": "7156ba9e",
   "metadata": {},
   "outputs": [
    {
     "ename": "AttributeError",
     "evalue": "'tuple' object has no attribute 'remove'",
     "output_type": "error",
     "traceback": [
      "\u001b[1;31m---------------------------------------------------------------------------\u001b[0m",
      "\u001b[1;31mAttributeError\u001b[0m                            Traceback (most recent call last)",
      "\u001b[1;32m<ipython-input-338-70e32e140dd0>\u001b[0m in \u001b[0;36m<module>\u001b[1;34m\u001b[0m\n\u001b[1;32m----> 1\u001b[1;33m \u001b[0mt\u001b[0m\u001b[1;33m.\u001b[0m\u001b[0mremove\u001b[0m\u001b[1;33m(\u001b[0m\u001b[1;36m7.5\u001b[0m\u001b[1;33m)\u001b[0m\u001b[1;33m\u001b[0m\u001b[1;33m\u001b[0m\u001b[0m\n\u001b[0m",
      "\u001b[1;31mAttributeError\u001b[0m: 'tuple' object has no attribute 'remove'"
     ]
    }
   ],
   "source": [
    "### Delete an element from the tuple\n",
    "### immutable\n",
    "### will not work\n",
    "\n",
    "\n",
    "t.remove(7.5)"
   ]
  },
  {
   "cell_type": "code",
   "execution_count": 339,
   "id": "d21362b8",
   "metadata": {},
   "outputs": [
    {
     "data": {
      "text/plain": [
       "[7.5, 6, 5, 5, 4.1, 4, 3.3, 3, 1.2, 1, 0]"
      ]
     },
     "execution_count": 339,
     "metadata": {},
     "output_type": "execute_result"
    }
   ],
   "source": [
    "### reverse a tuple\n",
    "\n",
    "sorted(t,reverse=True)"
   ]
  },
  {
   "cell_type": "code",
   "execution_count": 340,
   "id": "7465d4c0",
   "metadata": {},
   "outputs": [
    {
     "data": {
      "text/plain": [
       "[0, 1, 1.2, 3, 3.3, 4, 4.1, 5, 5, 6, 7.5]"
      ]
     },
     "execution_count": 340,
     "metadata": {},
     "output_type": "execute_result"
    }
   ],
   "source": [
    "### sort the tuple\n",
    "\n",
    "sorted(t)"
   ]
  },
  {
   "cell_type": "code",
   "execution_count": 341,
   "id": "4d0fc17d",
   "metadata": {},
   "outputs": [
    {
     "ename": "AttributeError",
     "evalue": "'tuple' object has no attribute 'clear'",
     "output_type": "error",
     "traceback": [
      "\u001b[1;31m---------------------------------------------------------------------------\u001b[0m",
      "\u001b[1;31mAttributeError\u001b[0m                            Traceback (most recent call last)",
      "\u001b[1;32m<ipython-input-341-b5c138cd64ad>\u001b[0m in \u001b[0;36m<module>\u001b[1;34m\u001b[0m\n\u001b[1;32m----> 1\u001b[1;33m \u001b[0mt\u001b[0m\u001b[1;33m.\u001b[0m\u001b[0mclear\u001b[0m\u001b[1;33m(\u001b[0m\u001b[1;33m)\u001b[0m\u001b[1;33m\u001b[0m\u001b[1;33m\u001b[0m\u001b[0m\n\u001b[0m",
      "\u001b[1;31mAttributeError\u001b[0m: 'tuple' object has no attribute 'clear'"
     ]
    }
   ],
   "source": [
    "### remove all the elements from the tuple\n",
    "### immutable\n",
    "### will not work\n",
    "t.clear()"
   ]
  },
  {
   "cell_type": "code",
   "execution_count": 342,
   "id": "e64488fd",
   "metadata": {},
   "outputs": [],
   "source": [
    "### Concatenation of tuples\n",
    "\n",
    "t1=1,2,3\n",
    "t2=4,5,6"
   ]
  },
  {
   "cell_type": "code",
   "execution_count": 343,
   "id": "1b7eeaa2",
   "metadata": {},
   "outputs": [
    {
     "data": {
      "text/plain": [
       "(1, 2, 3)"
      ]
     },
     "execution_count": 343,
     "metadata": {},
     "output_type": "execute_result"
    }
   ],
   "source": [
    "t1"
   ]
  },
  {
   "cell_type": "code",
   "execution_count": 344,
   "id": "3518b42f",
   "metadata": {},
   "outputs": [
    {
     "data": {
      "text/plain": [
       "(4, 5, 6)"
      ]
     },
     "execution_count": 344,
     "metadata": {},
     "output_type": "execute_result"
    }
   ],
   "source": [
    "t2"
   ]
  },
  {
   "cell_type": "code",
   "execution_count": 345,
   "id": "9c339e74",
   "metadata": {},
   "outputs": [],
   "source": [
    "t3=t1+t2"
   ]
  },
  {
   "cell_type": "code",
   "execution_count": 346,
   "id": "1604a824",
   "metadata": {},
   "outputs": [
    {
     "data": {
      "text/plain": [
       "(1, 2, 3, 4, 5, 6)"
      ]
     },
     "execution_count": 346,
     "metadata": {},
     "output_type": "execute_result"
    }
   ],
   "source": [
    "t3"
   ]
  },
  {
   "cell_type": "code",
   "execution_count": 347,
   "id": "ec345415",
   "metadata": {},
   "outputs": [
    {
     "data": {
      "text/plain": [
       "tuple"
      ]
     },
     "execution_count": 347,
     "metadata": {},
     "output_type": "execute_result"
    }
   ],
   "source": [
    "type(t3)"
   ]
  },
  {
   "cell_type": "code",
   "execution_count": 348,
   "id": "4b4092ed",
   "metadata": {},
   "outputs": [
    {
     "data": {
      "text/plain": [
       "(1, 2, 3, 4, 5, 6)"
      ]
     },
     "execution_count": 348,
     "metadata": {},
     "output_type": "execute_result"
    }
   ],
   "source": [
    "t3"
   ]
  },
  {
   "cell_type": "code",
   "execution_count": 349,
   "id": "83f36b7b",
   "metadata": {},
   "outputs": [],
   "source": [
    "##converting a tuple into the list to append it i.e to add an element\n",
    "x=list(t3)"
   ]
  },
  {
   "cell_type": "code",
   "execution_count": 350,
   "id": "af23aaa1",
   "metadata": {},
   "outputs": [],
   "source": [
    "x.append(7)"
   ]
  },
  {
   "cell_type": "code",
   "execution_count": 351,
   "id": "3b0e4893",
   "metadata": {},
   "outputs": [
    {
     "data": {
      "text/plain": [
       "[1, 2, 3, 4, 5, 6, 7]"
      ]
     },
     "execution_count": 351,
     "metadata": {},
     "output_type": "execute_result"
    }
   ],
   "source": [
    "x"
   ]
  },
  {
   "cell_type": "code",
   "execution_count": 352,
   "id": "b1eac920",
   "metadata": {},
   "outputs": [
    {
     "name": "stdout",
     "output_type": "stream",
     "text": [
      "[1, 2, 3, 4, 5, 6, 7]\n"
     ]
    }
   ],
   "source": [
    "print(x)"
   ]
  },
  {
   "cell_type": "markdown",
   "id": "05ad7713",
   "metadata": {},
   "source": [
    "# SET"
   ]
  },
  {
   "cell_type": "code",
   "execution_count": 356,
   "id": "c70820ff",
   "metadata": {},
   "outputs": [],
   "source": [
    "set={1,2,3,4,17,17,16,16,16,16,16,11,1.4,1.2,7.9,\"hi\"}"
   ]
  },
  {
   "cell_type": "code",
   "execution_count": 357,
   "id": "b0440be7",
   "metadata": {},
   "outputs": [
    {
     "data": {
      "text/plain": [
       "{1, 1.2, 1.4, 11, 16, 17, 2, 3, 4, 7.9, 'hi'}"
      ]
     },
     "execution_count": 357,
     "metadata": {},
     "output_type": "execute_result"
    }
   ],
   "source": [
    "set\n",
    "### set will be sorted according to ascii value\n",
    "### Duplicates are not repeated"
   ]
  },
  {
   "cell_type": "code",
   "execution_count": 355,
   "id": "23697274",
   "metadata": {},
   "outputs": [
    {
     "data": {
      "text/plain": [
       "set"
      ]
     },
     "execution_count": 355,
     "metadata": {},
     "output_type": "execute_result"
    }
   ],
   "source": [
    "type(set)"
   ]
  },
  {
   "cell_type": "code",
   "execution_count": 358,
   "id": "d97d8f39",
   "metadata": {},
   "outputs": [
    {
     "ename": "AttributeError",
     "evalue": "'set' object has no attribute 'append'",
     "output_type": "error",
     "traceback": [
      "\u001b[1;31m---------------------------------------------------------------------------\u001b[0m",
      "\u001b[1;31mAttributeError\u001b[0m                            Traceback (most recent call last)",
      "\u001b[1;32m<ipython-input-358-761bb4b98242>\u001b[0m in \u001b[0;36m<module>\u001b[1;34m\u001b[0m\n\u001b[1;32m----> 1\u001b[1;33m \u001b[0mset\u001b[0m\u001b[1;33m.\u001b[0m\u001b[0mappend\u001b[0m\u001b[1;33m(\u001b[0m\u001b[1;36m12\u001b[0m\u001b[1;33m)\u001b[0m\u001b[1;33m\u001b[0m\u001b[1;33m\u001b[0m\u001b[0m\n\u001b[0m",
      "\u001b[1;31mAttributeError\u001b[0m: 'set' object has no attribute 'append'"
     ]
    }
   ],
   "source": [
    "set.append(12)"
   ]
  },
  {
   "cell_type": "code",
   "execution_count": 359,
   "id": "3f84f94a",
   "metadata": {},
   "outputs": [],
   "source": [
    "set.add(91)"
   ]
  },
  {
   "cell_type": "code",
   "execution_count": 360,
   "id": "5c69a1f9",
   "metadata": {},
   "outputs": [
    {
     "data": {
      "text/plain": [
       "{1, 1.2, 1.4, 11, 16, 17, 2, 3, 4, 7.9, 91, 'hi'}"
      ]
     },
     "execution_count": 360,
     "metadata": {},
     "output_type": "execute_result"
    }
   ],
   "source": [
    "set"
   ]
  },
  {
   "cell_type": "code",
   "execution_count": 409,
   "id": "60c6f062",
   "metadata": {},
   "outputs": [],
   "source": [
    "set.add(\"hey\")"
   ]
  },
  {
   "cell_type": "code",
   "execution_count": 410,
   "id": "1afde249",
   "metadata": {},
   "outputs": [
    {
     "data": {
      "text/plain": [
       "{1, 1.2, 1.4, 11, 16, 17, 2, 3, 4, 7.9, 'hey', 'hi'}"
      ]
     },
     "execution_count": 410,
     "metadata": {},
     "output_type": "execute_result"
    }
   ],
   "source": [
    "set"
   ]
  },
  {
   "cell_type": "code",
   "execution_count": 361,
   "id": "40e930de",
   "metadata": {},
   "outputs": [],
   "source": [
    "set.remove(91)"
   ]
  },
  {
   "cell_type": "code",
   "execution_count": null,
   "id": "593bcf2a",
   "metadata": {},
   "outputs": [],
   "source": [
    "### we can add and remove elements from the set\n",
    "### it is mutable"
   ]
  },
  {
   "cell_type": "code",
   "execution_count": 362,
   "id": "2713d6eb",
   "metadata": {},
   "outputs": [
    {
     "ename": "AttributeError",
     "evalue": "'set' object has no attribute 'insert'",
     "output_type": "error",
     "traceback": [
      "\u001b[1;31m---------------------------------------------------------------------------\u001b[0m",
      "\u001b[1;31mAttributeError\u001b[0m                            Traceback (most recent call last)",
      "\u001b[1;32m<ipython-input-362-b02406756834>\u001b[0m in \u001b[0;36m<module>\u001b[1;34m\u001b[0m\n\u001b[1;32m----> 1\u001b[1;33m \u001b[0mset\u001b[0m\u001b[1;33m.\u001b[0m\u001b[0minsert\u001b[0m\u001b[1;33m(\u001b[0m\u001b[1;36m0\u001b[0m\u001b[1;33m,\u001b[0m\u001b[1;36m0.5\u001b[0m\u001b[1;33m)\u001b[0m\u001b[1;33m\u001b[0m\u001b[1;33m\u001b[0m\u001b[0m\n\u001b[0m",
      "\u001b[1;31mAttributeError\u001b[0m: 'set' object has no attribute 'insert'"
     ]
    }
   ],
   "source": [
    "set.insert(0,0.5)"
   ]
  },
  {
   "cell_type": "code",
   "execution_count": 363,
   "id": "a4790187",
   "metadata": {},
   "outputs": [
    {
     "ename": "AttributeError",
     "evalue": "'set' object has no attribute 'insert'",
     "output_type": "error",
     "traceback": [
      "\u001b[1;31m---------------------------------------------------------------------------\u001b[0m",
      "\u001b[1;31mAttributeError\u001b[0m                            Traceback (most recent call last)",
      "\u001b[1;32m<ipython-input-363-b578eb743aa4>\u001b[0m in \u001b[0;36m<module>\u001b[1;34m\u001b[0m\n\u001b[1;32m----> 1\u001b[1;33m \u001b[0mset\u001b[0m\u001b[1;33m.\u001b[0m\u001b[0minsert\u001b[0m\u001b[1;33m(\u001b[0m\u001b[1;36m0.5\u001b[0m\u001b[1;33m)\u001b[0m\u001b[1;33m\u001b[0m\u001b[1;33m\u001b[0m\u001b[0m\n\u001b[0m",
      "\u001b[1;31mAttributeError\u001b[0m: 'set' object has no attribute 'insert'"
     ]
    }
   ],
   "source": [
    "set.insert(0.5)"
   ]
  },
  {
   "cell_type": "code",
   "execution_count": 364,
   "id": "4a86c27a",
   "metadata": {},
   "outputs": [
    {
     "ename": "TypeError",
     "evalue": "'set' object is not subscriptable",
     "output_type": "error",
     "traceback": [
      "\u001b[1;31m---------------------------------------------------------------------------\u001b[0m",
      "\u001b[1;31mTypeError\u001b[0m                                 Traceback (most recent call last)",
      "\u001b[1;32m<ipython-input-364-5a7e82b41e48>\u001b[0m in \u001b[0;36m<module>\u001b[1;34m\u001b[0m\n\u001b[1;32m----> 1\u001b[1;33m \u001b[0mset\u001b[0m\u001b[1;33m[\u001b[0m\u001b[1;36m0\u001b[0m\u001b[1;33m]\u001b[0m\u001b[1;33m\u001b[0m\u001b[1;33m\u001b[0m\u001b[0m\n\u001b[0m",
      "\u001b[1;31mTypeError\u001b[0m: 'set' object is not subscriptable"
     ]
    }
   ],
   "source": [
    "set[0]"
   ]
  },
  {
   "cell_type": "code",
   "execution_count": null,
   "id": "b01413d5",
   "metadata": {},
   "outputs": [],
   "source": [
    "### using index add or retrieve the data"
   ]
  },
  {
   "cell_type": "code",
   "execution_count": 373,
   "id": "2b7e2622",
   "metadata": {},
   "outputs": [],
   "source": [
    "Days={\"Mon\",\"Tue\",\"Wed\",\"Thu\",\"Fri\",\"Sat\",\"Sun\"}"
   ]
  },
  {
   "cell_type": "code",
   "execution_count": 374,
   "id": "e11b9ab3",
   "metadata": {},
   "outputs": [
    {
     "data": {
      "text/plain": [
       "{'Fri', 'Mon', 'Sat', 'Sun', 'Thu', 'Tue', 'Wed'}"
      ]
     },
     "execution_count": 374,
     "metadata": {},
     "output_type": "execute_result"
    }
   ],
   "source": [
    "Days"
   ]
  },
  {
   "cell_type": "code",
   "execution_count": 375,
   "id": "e3329677",
   "metadata": {},
   "outputs": [
    {
     "name": "stdout",
     "output_type": "stream",
     "text": [
      "{'Sun', 'Thu', 'Sat', 'Mon', 'Tue', 'Fri', 'Wed'}\n"
     ]
    }
   ],
   "source": [
    "print(Days)"
   ]
  },
  {
   "cell_type": "code",
   "execution_count": 376,
   "id": "1c13a4d5",
   "metadata": {},
   "outputs": [
    {
     "name": "stdout",
     "output_type": "stream",
     "text": [
      "{'Sun', 'Thu', 'Sat', 'Mon', 'Tue', 'Fri', 'Wed'}\n"
     ]
    }
   ],
   "source": [
    "print(Days)"
   ]
  },
  {
   "cell_type": "code",
   "execution_count": 377,
   "id": "5e7f1750",
   "metadata": {},
   "outputs": [
    {
     "data": {
      "text/plain": [
       "set"
      ]
     },
     "execution_count": 377,
     "metadata": {},
     "output_type": "execute_result"
    }
   ],
   "source": [
    "\n",
    "type(Days)"
   ]
  },
  {
   "cell_type": "code",
   "execution_count": 378,
   "id": "aadb5926",
   "metadata": {},
   "outputs": [
    {
     "name": "stdout",
     "output_type": "stream",
     "text": [
      "<class 'set'>\n"
     ]
    }
   ],
   "source": [
    "print(type(Days))"
   ]
  },
  {
   "cell_type": "code",
   "execution_count": 379,
   "id": "4a596c07",
   "metadata": {},
   "outputs": [
    {
     "name": "stdout",
     "output_type": "stream",
     "text": [
      "looping through the set elements..\n",
      "Sun\n",
      "Thu\n",
      "Sat\n",
      "Mon\n",
      "Tue\n",
      "Fri\n",
      "Wed\n"
     ]
    }
   ],
   "source": [
    "print(\"looping through the set elements..\")\n",
    "for i in Days:\n",
    "    print(i)"
   ]
  },
  {
   "cell_type": "code",
   "execution_count": null,
   "id": "e7966ad8",
   "metadata": {},
   "outputs": [],
   "source": [
    "### create a Set of int and float data type\n",
    "### find the number of elements in the Set\n",
    "### find the maximum value in the Set\n",
    "### add an element to the Set\n",
    "### create a copy of the Set\n",
    "### return index position of an object\n",
    "### insert a new element at the specific index number\n",
    "### Delete an element from the Set\n",
    "### reverse a Set\n",
    "### sort the Set\n",
    "### remove all the elements from the Set\n",
    "\n"
   ]
  },
  {
   "cell_type": "code",
   "execution_count": 380,
   "id": "0f4ff799",
   "metadata": {},
   "outputs": [],
   "source": [
    "set1={5,2,6.6,2.3,7.1,8,9,0,11.1}"
   ]
  },
  {
   "cell_type": "code",
   "execution_count": 381,
   "id": "e3b239fb",
   "metadata": {},
   "outputs": [
    {
     "data": {
      "text/plain": [
       "{0, 2, 2.3, 5, 6.6, 7.1, 8, 9, 11.1}"
      ]
     },
     "execution_count": 381,
     "metadata": {},
     "output_type": "execute_result"
    }
   ],
   "source": [
    "set1 "
   ]
  },
  {
   "cell_type": "code",
   "execution_count": 382,
   "id": "93bb08b4",
   "metadata": {},
   "outputs": [
    {
     "name": "stdout",
     "output_type": "stream",
     "text": [
      "{0, 2, 2.3, 5, 6.6, 7.1, 8, 9, 11.1}\n"
     ]
    }
   ],
   "source": [
    "print(set1)"
   ]
  },
  {
   "cell_type": "code",
   "execution_count": 383,
   "id": "156ce7aa",
   "metadata": {},
   "outputs": [
    {
     "data": {
      "text/plain": [
       "9"
      ]
     },
     "execution_count": 383,
     "metadata": {},
     "output_type": "execute_result"
    }
   ],
   "source": [
    "len(set1)"
   ]
  },
  {
   "cell_type": "code",
   "execution_count": 385,
   "id": "4a3d6077",
   "metadata": {},
   "outputs": [
    {
     "data": {
      "text/plain": [
       "11.1"
      ]
     },
     "execution_count": 385,
     "metadata": {},
     "output_type": "execute_result"
    }
   ],
   "source": [
    "max(set1)"
   ]
  },
  {
   "cell_type": "code",
   "execution_count": 386,
   "id": "3a58c9da",
   "metadata": {},
   "outputs": [
    {
     "data": {
      "text/plain": [
       "0"
      ]
     },
     "execution_count": 386,
     "metadata": {},
     "output_type": "execute_result"
    }
   ],
   "source": [
    "min(set1)"
   ]
  },
  {
   "cell_type": "code",
   "execution_count": 387,
   "id": "3f1bfc1d",
   "metadata": {},
   "outputs": [],
   "source": [
    "set1.add(55)"
   ]
  },
  {
   "cell_type": "code",
   "execution_count": 388,
   "id": "c3337e5e",
   "metadata": {},
   "outputs": [
    {
     "data": {
      "text/plain": [
       "{0, 2, 2.3, 5, 6.6, 7.1, 8, 9, 11.1, 55}"
      ]
     },
     "execution_count": 388,
     "metadata": {},
     "output_type": "execute_result"
    }
   ],
   "source": [
    "set1"
   ]
  },
  {
   "cell_type": "code",
   "execution_count": 389,
   "id": "fdf9b94c",
   "metadata": {},
   "outputs": [
    {
     "data": {
      "text/plain": [
       "{0, 2, 2.3, 5, 6.6, 7.1, 8, 9, 11.1, 55}"
      ]
     },
     "execution_count": 389,
     "metadata": {},
     "output_type": "execute_result"
    }
   ],
   "source": [
    "set1.copy()"
   ]
  },
  {
   "cell_type": "code",
   "execution_count": 391,
   "id": "ae1a54a3",
   "metadata": {},
   "outputs": [
    {
     "ename": "AttributeError",
     "evalue": "'set' object has no attribute 'insert'",
     "output_type": "error",
     "traceback": [
      "\u001b[1;31m---------------------------------------------------------------------------\u001b[0m",
      "\u001b[1;31mAttributeError\u001b[0m                            Traceback (most recent call last)",
      "\u001b[1;32m<ipython-input-391-3f0637170221>\u001b[0m in \u001b[0;36m<module>\u001b[1;34m\u001b[0m\n\u001b[0;32m      1\u001b[0m \u001b[1;31m### index numbers cannot be used\u001b[0m\u001b[1;33m\u001b[0m\u001b[1;33m\u001b[0m\u001b[1;33m\u001b[0m\u001b[0m\n\u001b[1;32m----> 2\u001b[1;33m \u001b[0mset1\u001b[0m\u001b[1;33m.\u001b[0m\u001b[0minsert\u001b[0m\u001b[1;33m(\u001b[0m\u001b[1;36m1\u001b[0m\u001b[1;33m,\u001b[0m\u001b[1;36m1.1\u001b[0m\u001b[1;33m)\u001b[0m\u001b[1;33m\u001b[0m\u001b[1;33m\u001b[0m\u001b[0m\n\u001b[0m",
      "\u001b[1;31mAttributeError\u001b[0m: 'set' object has no attribute 'insert'"
     ]
    }
   ],
   "source": [
    "### index numbers cannot be used\n",
    "### sets cannot identify index numbers\n",
    "set1.insert(1,1.1)"
   ]
  },
  {
   "cell_type": "code",
   "execution_count": 392,
   "id": "48c39d03",
   "metadata": {},
   "outputs": [],
   "source": [
    "### Mutable\n",
    "set1.remove(0)"
   ]
  },
  {
   "cell_type": "code",
   "execution_count": 393,
   "id": "797fcc6e",
   "metadata": {},
   "outputs": [
    {
     "data": {
      "text/plain": [
       "{2, 2.3, 5, 6.6, 7.1, 8, 9, 11.1, 55}"
      ]
     },
     "execution_count": 393,
     "metadata": {},
     "output_type": "execute_result"
    }
   ],
   "source": [
    "set1"
   ]
  },
  {
   "cell_type": "code",
   "execution_count": 394,
   "id": "74a96d64",
   "metadata": {},
   "outputs": [
    {
     "ename": "AttributeError",
     "evalue": "'set' object has no attribute 'reverse'",
     "output_type": "error",
     "traceback": [
      "\u001b[1;31m---------------------------------------------------------------------------\u001b[0m",
      "\u001b[1;31mAttributeError\u001b[0m                            Traceback (most recent call last)",
      "\u001b[1;32m<ipython-input-394-2ccd9d4b9e9f>\u001b[0m in \u001b[0;36m<module>\u001b[1;34m\u001b[0m\n\u001b[1;32m----> 1\u001b[1;33m \u001b[0mset1\u001b[0m\u001b[1;33m.\u001b[0m\u001b[0mreverse\u001b[0m\u001b[1;33m(\u001b[0m\u001b[1;33m)\u001b[0m\u001b[1;33m\u001b[0m\u001b[1;33m\u001b[0m\u001b[0m\n\u001b[0m",
      "\u001b[1;31mAttributeError\u001b[0m: 'set' object has no attribute 'reverse'"
     ]
    }
   ],
   "source": [
    "### cannot be reversed\n",
    "set1.reverse()"
   ]
  },
  {
   "cell_type": "code",
   "execution_count": 395,
   "id": "ce8d3ee8",
   "metadata": {},
   "outputs": [
    {
     "ename": "AttributeError",
     "evalue": "'set' object has no attribute 'sort'",
     "output_type": "error",
     "traceback": [
      "\u001b[1;31m---------------------------------------------------------------------------\u001b[0m",
      "\u001b[1;31mAttributeError\u001b[0m                            Traceback (most recent call last)",
      "\u001b[1;32m<ipython-input-395-98ff5adb42cd>\u001b[0m in \u001b[0;36m<module>\u001b[1;34m\u001b[0m\n\u001b[1;32m----> 1\u001b[1;33m \u001b[0mset1\u001b[0m\u001b[1;33m.\u001b[0m\u001b[0msort\u001b[0m\u001b[1;33m(\u001b[0m\u001b[1;33m)\u001b[0m\u001b[1;33m\u001b[0m\u001b[1;33m\u001b[0m\u001b[0m\n\u001b[0m",
      "\u001b[1;31mAttributeError\u001b[0m: 'set' object has no attribute 'sort'"
     ]
    }
   ],
   "source": [
    "### sets are already sorted\n",
    "set1.sort()"
   ]
  },
  {
   "cell_type": "code",
   "execution_count": 396,
   "id": "8e963716",
   "metadata": {},
   "outputs": [],
   "source": [
    "set1.clear()\n",
    "### its an empty set"
   ]
  },
  {
   "cell_type": "code",
   "execution_count": 397,
   "id": "869cf27d",
   "metadata": {},
   "outputs": [
    {
     "data": {
      "text/plain": [
       "set()"
      ]
     },
     "execution_count": 397,
     "metadata": {},
     "output_type": "execute_result"
    }
   ],
   "source": [
    "set1"
   ]
  },
  {
   "cell_type": "code",
   "execution_count": 398,
   "id": "af784cbd",
   "metadata": {},
   "outputs": [
    {
     "name": "stdout",
     "output_type": "stream",
     "text": [
      "set()\n"
     ]
    }
   ],
   "source": [
    "print(set1)"
   ]
  },
  {
   "cell_type": "code",
   "execution_count": 399,
   "id": "0fe8fb55",
   "metadata": {},
   "outputs": [
    {
     "data": {
      "text/plain": [
       "set()"
      ]
     },
     "execution_count": 399,
     "metadata": {},
     "output_type": "execute_result"
    }
   ],
   "source": [
    "set1"
   ]
  },
  {
   "cell_type": "code",
   "execution_count": 400,
   "id": "78a4a8f2",
   "metadata": {},
   "outputs": [],
   "source": [
    "set1={1,2,3}"
   ]
  },
  {
   "cell_type": "code",
   "execution_count": 401,
   "id": "3d535bf2",
   "metadata": {},
   "outputs": [
    {
     "data": {
      "text/plain": [
       "{1, 2, 3}"
      ]
     },
     "execution_count": 401,
     "metadata": {},
     "output_type": "execute_result"
    }
   ],
   "source": [
    "set1"
   ]
  },
  {
   "cell_type": "code",
   "execution_count": 402,
   "id": "6d0ea404",
   "metadata": {},
   "outputs": [],
   "source": [
    "set2={4,5,6}"
   ]
  },
  {
   "cell_type": "code",
   "execution_count": 403,
   "id": "68e9a7f9",
   "metadata": {},
   "outputs": [
    {
     "data": {
      "text/plain": [
       "{4, 5, 6}"
      ]
     },
     "execution_count": 403,
     "metadata": {},
     "output_type": "execute_result"
    }
   ],
   "source": [
    "set2"
   ]
  },
  {
   "cell_type": "code",
   "execution_count": 404,
   "id": "e440e2fe",
   "metadata": {},
   "outputs": [
    {
     "ename": "TypeError",
     "evalue": "unsupported operand type(s) for +: 'set' and 'set'",
     "output_type": "error",
     "traceback": [
      "\u001b[1;31m---------------------------------------------------------------------------\u001b[0m",
      "\u001b[1;31mTypeError\u001b[0m                                 Traceback (most recent call last)",
      "\u001b[1;32m<ipython-input-404-1341b521d436>\u001b[0m in \u001b[0;36m<module>\u001b[1;34m\u001b[0m\n\u001b[1;32m----> 1\u001b[1;33m \u001b[0mset3\u001b[0m\u001b[1;33m=\u001b[0m\u001b[0mset1\u001b[0m\u001b[1;33m+\u001b[0m\u001b[0mset2\u001b[0m\u001b[1;33m\u001b[0m\u001b[1;33m\u001b[0m\u001b[0m\n\u001b[0m",
      "\u001b[1;31mTypeError\u001b[0m: unsupported operand type(s) for +: 'set' and 'set'"
     ]
    }
   ],
   "source": [
    "### sets do not concatenate\n",
    "set3=set1+set2"
   ]
  },
  {
   "cell_type": "markdown",
   "id": "43537cbc",
   "metadata": {},
   "source": [
    "# Dictionary "
   ]
  },
  {
   "cell_type": "code",
   "execution_count": 411,
   "id": "c47c0802",
   "metadata": {},
   "outputs": [],
   "source": [
    "sample_dict={\"a\": \"Alpha\", 1: \"first\", 2:\"second\", 3:\"third\", 1:\"fourth\", 5:\"fourth\", 6:\"sixth\"}"
   ]
  },
  {
   "cell_type": "code",
   "execution_count": 412,
   "id": "41d9f280",
   "metadata": {},
   "outputs": [
    {
     "data": {
      "text/plain": [
       "{'a': 'Alpha', 1: 'fourth', 2: 'second', 3: 'third', 5: 'fourth', 6: 'sixth'}"
      ]
     },
     "execution_count": 412,
     "metadata": {},
     "output_type": "execute_result"
    }
   ],
   "source": [
    "sample_dict"
   ]
  },
  {
   "cell_type": "code",
   "execution_count": 414,
   "id": "789a9ae9",
   "metadata": {},
   "outputs": [
    {
     "data": {
      "text/plain": [
       "'Alpha'"
      ]
     },
     "execution_count": 414,
     "metadata": {},
     "output_type": "execute_result"
    }
   ],
   "source": [
    "sample_dict[\"a\"]"
   ]
  },
  {
   "cell_type": "code",
   "execution_count": 416,
   "id": "a217de32",
   "metadata": {},
   "outputs": [
    {
     "data": {
      "text/plain": [
       "'fourth'"
      ]
     },
     "execution_count": 416,
     "metadata": {},
     "output_type": "execute_result"
    }
   ],
   "source": [
    "sample_dict[5]"
   ]
  },
  {
   "cell_type": "code",
   "execution_count": 417,
   "id": "b7a91bd0",
   "metadata": {},
   "outputs": [],
   "source": [
    "sample_dict[5] = \"fifth\""
   ]
  },
  {
   "cell_type": "code",
   "execution_count": 418,
   "id": "e55637d9",
   "metadata": {},
   "outputs": [
    {
     "data": {
      "text/plain": [
       "{'a': 'Alpha', 1: 'fourth', 2: 'second', 3: 'third', 5: 'fifth', 6: 'sixth'}"
      ]
     },
     "execution_count": 418,
     "metadata": {},
     "output_type": "execute_result"
    }
   ],
   "source": [
    "sample_dict"
   ]
  },
  {
   "cell_type": "code",
   "execution_count": 419,
   "id": "d3075353",
   "metadata": {},
   "outputs": [],
   "source": [
    "sample_dict[4] = \"fourth\""
   ]
  },
  {
   "cell_type": "code",
   "execution_count": 420,
   "id": "642e3173",
   "metadata": {},
   "outputs": [
    {
     "data": {
      "text/plain": [
       "{'a': 'Alpha',\n",
       " 1: 'fourth',\n",
       " 2: 'second',\n",
       " 3: 'third',\n",
       " 5: 'fifth',\n",
       " 6: 'sixth',\n",
       " 4: 'fourth'}"
      ]
     },
     "execution_count": 420,
     "metadata": {},
     "output_type": "execute_result"
    }
   ],
   "source": [
    "sample_dict"
   ]
  },
  {
   "cell_type": "code",
   "execution_count": 421,
   "id": "8d817553",
   "metadata": {},
   "outputs": [],
   "source": [
    "sample_dict[1] = \"first\""
   ]
  },
  {
   "cell_type": "code",
   "execution_count": 422,
   "id": "0556754d",
   "metadata": {},
   "outputs": [
    {
     "data": {
      "text/plain": [
       "{'a': 'Alpha',\n",
       " 1: 'first',\n",
       " 2: 'second',\n",
       " 3: 'third',\n",
       " 5: 'fifth',\n",
       " 6: 'sixth',\n",
       " 4: 'fourth'}"
      ]
     },
     "execution_count": 422,
     "metadata": {},
     "output_type": "execute_result"
    }
   ],
   "source": [
    "sample_dict"
   ]
  },
  {
   "cell_type": "code",
   "execution_count": 423,
   "id": "517e897b",
   "metadata": {},
   "outputs": [
    {
     "ename": "KeyError",
     "evalue": "'Alpha'",
     "output_type": "error",
     "traceback": [
      "\u001b[1;31m---------------------------------------------------------------------------\u001b[0m",
      "\u001b[1;31mKeyError\u001b[0m                                  Traceback (most recent call last)",
      "\u001b[1;32m<ipython-input-423-2644f0f9e3d8>\u001b[0m in \u001b[0;36m<module>\u001b[1;34m\u001b[0m\n\u001b[1;32m----> 1\u001b[1;33m \u001b[0msample_dict\u001b[0m\u001b[1;33m[\u001b[0m\u001b[1;34m\"Alpha\"\u001b[0m\u001b[1;33m]\u001b[0m\u001b[1;33m\u001b[0m\u001b[1;33m\u001b[0m\u001b[0m\n\u001b[0m",
      "\u001b[1;31mKeyError\u001b[0m: 'Alpha'"
     ]
    }
   ],
   "source": [
    "sample_dict[\"Alpha\"]"
   ]
  },
  {
   "cell_type": "code",
   "execution_count": null,
   "id": "1ca852fc",
   "metadata": {},
   "outputs": [],
   "source": [
    "### a key cannot be retrived from a value"
   ]
  },
  {
   "cell_type": "code",
   "execution_count": 425,
   "id": "10dd77e2",
   "metadata": {},
   "outputs": [
    {
     "data": {
      "text/plain": [
       "'sixth'"
      ]
     },
     "execution_count": 425,
     "metadata": {},
     "output_type": "execute_result"
    }
   ],
   "source": [
    "### pop function\n",
    "### specifiying the key of the element to be removed\n",
    "sample_dict.pop(6)"
   ]
  },
  {
   "cell_type": "code",
   "execution_count": 426,
   "id": "c1bd99c3",
   "metadata": {},
   "outputs": [
    {
     "data": {
      "text/plain": [
       "{'a': 'Alpha', 1: 'first', 2: 'second', 3: 'third', 5: 'fifth', 4: 'fourth'}"
      ]
     },
     "execution_count": 426,
     "metadata": {},
     "output_type": "execute_result"
    }
   ],
   "source": [
    "sample_dict"
   ]
  },
  {
   "cell_type": "code",
   "execution_count": 427,
   "id": "fe4a4cb7",
   "metadata": {},
   "outputs": [
    {
     "ename": "AttributeError",
     "evalue": "'dict' object has no attribute 'reverse'",
     "output_type": "error",
     "traceback": [
      "\u001b[1;31m---------------------------------------------------------------------------\u001b[0m",
      "\u001b[1;31mAttributeError\u001b[0m                            Traceback (most recent call last)",
      "\u001b[1;32m<ipython-input-427-30df3e04ae26>\u001b[0m in \u001b[0;36m<module>\u001b[1;34m\u001b[0m\n\u001b[1;32m----> 1\u001b[1;33m \u001b[0msample_dict\u001b[0m\u001b[1;33m.\u001b[0m\u001b[0mreverse\u001b[0m\u001b[1;33m(\u001b[0m\u001b[1;33m)\u001b[0m\u001b[1;33m\u001b[0m\u001b[1;33m\u001b[0m\u001b[0m\n\u001b[0m",
      "\u001b[1;31mAttributeError\u001b[0m: 'dict' object has no attribute 'reverse'"
     ]
    }
   ],
   "source": [
    "sample_dict.reverse()\n",
    "\n",
    "### a dictionary cannot be reversed"
   ]
  },
  {
   "cell_type": "code",
   "execution_count": 429,
   "id": "c5bc6bc1",
   "metadata": {},
   "outputs": [
    {
     "data": {
      "text/plain": [
       "(4, 'fourth')"
      ]
     },
     "execution_count": 429,
     "metadata": {},
     "output_type": "execute_result"
    }
   ],
   "source": [
    "### removing the last item in the dictonary\n",
    "sample_dict.popitem()"
   ]
  },
  {
   "cell_type": "code",
   "execution_count": 430,
   "id": "8609319a",
   "metadata": {},
   "outputs": [
    {
     "data": {
      "text/plain": [
       "{'a': 'Alpha', 1: 'first', 2: 'second', 3: 'third', 5: 'fifth'}"
      ]
     },
     "execution_count": 430,
     "metadata": {},
     "output_type": "execute_result"
    }
   ],
   "source": [
    "sample_dict"
   ]
  },
  {
   "cell_type": "code",
   "execution_count": null,
   "id": "ceaf05d1",
   "metadata": {},
   "outputs": [],
   "source": []
  }
 ],
 "metadata": {
  "kernelspec": {
   "display_name": "Python 3",
   "language": "python",
   "name": "python3"
  },
  "language_info": {
   "codemirror_mode": {
    "name": "ipython",
    "version": 3
   },
   "file_extension": ".py",
   "mimetype": "text/x-python",
   "name": "python",
   "nbconvert_exporter": "python",
   "pygments_lexer": "ipython3",
   "version": "3.8.8"
  }
 },
 "nbformat": 4,
 "nbformat_minor": 5
}
