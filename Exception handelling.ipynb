{
 "cells": [
  {
   "cell_type": "code",
   "execution_count": null,
   "id": "b8658266",
   "metadata": {},
   "outputs": [],
   "source": [
    "a=10\n",
    "division=a/0\n",
    "print(division)\n",
    "\n",
    "## we cannot divide a value by zero\n",
    "## it gives a error - ZeroDivisionError"
   ]
  },
  {
   "cell_type": "code",
   "execution_count": null,
   "id": "60087475",
   "metadata": {},
   "outputs": [],
   "source": [
    "a=10\n",
    "try:\n",
    "    division=a/0\n",
    "    print(division)\n",
    "except ZeroDivisionError:\n",
    "    print(\"number cannot be divided by zero\")"
   ]
  },
  {
   "cell_type": "code",
   "execution_count": 6,
   "id": "cd216450",
   "metadata": {},
   "outputs": [
    {
     "name": "stdout",
     "output_type": "stream",
     "text": [
      "3\n",
      "0 9\n",
      "1 81\n",
      "2 6561\n",
      "the try and except block has been ended\n"
     ]
    }
   ],
   "source": [
    "i=5\n",
    "f=int(input())\n",
    "try:\n",
    "    for i in range(f):\n",
    "        \n",
    "        f=f**2\n",
    "        print(i,f)\n",
    "        \n",
    "except OverflowError as err:\n",
    "    print(\"overflow\")\n",
    "finally:\n",
    "    print(\"the try and except block has been ended\")"
   ]
  },
  {
   "cell_type": "code",
   "execution_count": 3,
   "id": "68099741",
   "metadata": {},
   "outputs": [
    {
     "name": "stdout",
     "output_type": "stream",
     "text": [
      "something went wrong\n",
      "try and except block is ended\n"
     ]
    }
   ],
   "source": [
    "try:\n",
    "    x>10\n",
    "except:\n",
    "    print(\"something went wrong\")\n",
    "else:\n",
    "    print(\"verything is fine\")\n",
    "finally:\n",
    "    print(\"try and except block is ended\")"
   ]
  },
  {
   "cell_type": "code",
   "execution_count": 1,
   "id": "eedbbeb7",
   "metadata": {
    "scrolled": true
   },
   "outputs": [
    {
     "ename": "NameError",
     "evalue": "name 'x' is not defined",
     "output_type": "error",
     "traceback": [
      "\u001b[1;31m---------------------------------------------------------------------------\u001b[0m",
      "\u001b[1;31mNameError\u001b[0m                                 Traceback (most recent call last)",
      "\u001b[1;32m<ipython-input-1-fc17d851ef81>\u001b[0m in \u001b[0;36m<module>\u001b[1;34m\u001b[0m\n\u001b[1;32m----> 1\u001b[1;33m \u001b[0mprint\u001b[0m\u001b[1;33m(\u001b[0m\u001b[0mx\u001b[0m\u001b[1;33m)\u001b[0m\u001b[1;33m\u001b[0m\u001b[1;33m\u001b[0m\u001b[0m\n\u001b[0m",
      "\u001b[1;31mNameError\u001b[0m: name 'x' is not defined"
     ]
    }
   ],
   "source": [
    "print(x)"
   ]
  },
  {
   "cell_type": "code",
   "execution_count": 2,
   "id": "a761673f",
   "metadata": {},
   "outputs": [
    {
     "name": "stdout",
     "output_type": "stream",
     "text": [
      "an error has occured\n"
     ]
    }
   ],
   "source": [
    "try:\n",
    "    print(x)\n",
    "except:\n",
    "    print(\"an error has occured\")"
   ]
  },
  {
   "cell_type": "code",
   "execution_count": 4,
   "id": "699ffe72",
   "metadata": {},
   "outputs": [
    {
     "ename": "NameError",
     "evalue": "name 'x' is not defined",
     "output_type": "error",
     "traceback": [
      "\u001b[1;31m---------------------------------------------------------------------------\u001b[0m",
      "\u001b[1;31mNameError\u001b[0m                                 Traceback (most recent call last)",
      "\u001b[1;32m<ipython-input-4-f0bafbfb9ba7>\u001b[0m in \u001b[0;36m<module>\u001b[1;34m\u001b[0m\n\u001b[1;32m----> 1\u001b[1;33m \u001b[0mx\u001b[0m\u001b[1;33m>\u001b[0m\u001b[1;36m10\u001b[0m\u001b[1;33m\u001b[0m\u001b[1;33m\u001b[0m\u001b[0m\n\u001b[0m",
      "\u001b[1;31mNameError\u001b[0m: name 'x' is not defined"
     ]
    }
   ],
   "source": [
    "x>10"
   ]
  },
  {
   "cell_type": "code",
   "execution_count": null,
   "id": "d58762a4",
   "metadata": {},
   "outputs": [],
   "source": []
  }
 ],
 "metadata": {
  "kernelspec": {
   "display_name": "Python 3",
   "language": "python",
   "name": "python3"
  },
  "language_info": {
   "codemirror_mode": {
    "name": "ipython",
    "version": 3
   },
   "file_extension": ".py",
   "mimetype": "text/x-python",
   "name": "python",
   "nbconvert_exporter": "python",
   "pygments_lexer": "ipython3",
   "version": "3.8.8"
  }
 },
 "nbformat": 4,
 "nbformat_minor": 5
}
