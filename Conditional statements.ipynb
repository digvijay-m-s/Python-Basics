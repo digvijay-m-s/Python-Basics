{
 "cells": [
  {
   "cell_type": "code",
   "execution_count": null,
   "id": "82a913b1",
   "metadata": {},
   "outputs": [],
   "source": [
    "# if \n",
    "#if else\n",
    "#elif\n",
    "#nested if\n",
    "#nested if else"
   ]
  },
  {
   "cell_type": "markdown",
   "id": "63e4e8e9",
   "metadata": {},
   "source": [
    "# If Statement"
   ]
  },
  {
   "cell_type": "code",
   "execution_count": null,
   "id": "188c7e75",
   "metadata": {},
   "outputs": [],
   "source": [
    "### condititons and Loops\n",
    "### if statement\n",
    "\n"
   ]
  },
  {
   "cell_type": "code",
   "execution_count": 1,
   "id": "c26a06d4",
   "metadata": {},
   "outputs": [],
   "source": [
    "a=50\n",
    "b=100\n",
    "if a>b:\n",
    "    print(\"a is greater than b\")"
   ]
  },
  {
   "cell_type": "code",
   "execution_count": null,
   "id": "69a5ae50",
   "metadata": {},
   "outputs": [],
   "source": [
    "### no output\n",
    "### if condition only gives output if the condition is true\n",
    "### there is no output for it if the condition is false"
   ]
  },
  {
   "cell_type": "code",
   "execution_count": 2,
   "id": "1fd36788",
   "metadata": {},
   "outputs": [
    {
     "name": "stdout",
     "output_type": "stream",
     "text": [
      "a is greater than b\n"
     ]
    }
   ],
   "source": [
    "a=500\n",
    "b=100\n",
    "if a>b:\n",
    "    print(\"a is greater than b\")"
   ]
  },
  {
   "cell_type": "code",
   "execution_count": null,
   "id": "86c8f114",
   "metadata": {},
   "outputs": [],
   "source": [
    "## lets try one more"
   ]
  },
  {
   "cell_type": "code",
   "execution_count": 4,
   "id": "10530714",
   "metadata": {},
   "outputs": [
    {
     "name": "stdout",
     "output_type": "stream",
     "text": [
      "Ajay is elder than Manish\n"
     ]
    }
   ],
   "source": [
    "Ajay_age=22\n",
    "Manish_age =21\n",
    "if(Ajay_age>Manish_age):\n",
    "    print(\"Ajay is elder than Manish\")"
   ]
  },
  {
   "cell_type": "markdown",
   "id": "c162ea30",
   "metadata": {},
   "source": [
    " # If Else"
   ]
  },
  {
   "cell_type": "code",
   "execution_count": 6,
   "id": "a651c14a",
   "metadata": {},
   "outputs": [
    {
     "name": "stdout",
     "output_type": "stream",
     "text": [
      "b is greater than a\n"
     ]
    }
   ],
   "source": [
    "a=20\n",
    "b=30\n",
    "if a>b:\n",
    "    print(\"a is greater than b\")\n",
    "else:\n",
    "    print(\"b is greater than a\")"
   ]
  },
  {
   "cell_type": "code",
   "execution_count": 8,
   "id": "587ef19f",
   "metadata": {},
   "outputs": [
    {
     "name": "stdout",
     "output_type": "stream",
     "text": [
      "Enter the passwordhelllo\n",
      "Incorrect Password\n"
     ]
    }
   ],
   "source": [
    "x=str(input(\"Enter the password\"))\n",
    "if x==\"Hello\":\n",
    "    print('Welcome Back')\n",
    "else:\n",
    "    print(\"Incorrect Password\")"
   ]
  },
  {
   "cell_type": "code",
   "execution_count": 9,
   "id": "089f05ae",
   "metadata": {},
   "outputs": [
    {
     "name": "stdout",
     "output_type": "stream",
     "text": [
      "-1  is less than zero \n"
     ]
    }
   ],
   "source": [
    "num=-1\n",
    "if(num>0):\n",
    "    print(num,\" is greater than zero\")\n",
    "else:\n",
    "    print(num,\" is less than zero \")"
   ]
  },
  {
   "cell_type": "code",
   "execution_count": 16,
   "id": "b6801ac9",
   "metadata": {},
   "outputs": [
    {
     "name": "stdout",
     "output_type": "stream",
     "text": [
      "average marks is 35.333333333333336\n"
     ]
    }
   ],
   "source": [
    "math=40\n",
    "sci=35\n",
    "eng=31\n",
    "\n",
    "if((math+sci+eng)/3 <= 35):\n",
    "    print(\"less than average marks\")\n",
    "else:\n",
    "    print(\"average marks is\", (math+sci+eng)/3)\n"
   ]
  },
  {
   "cell_type": "code",
   "execution_count": 20,
   "id": "5de95228",
   "metadata": {},
   "outputs": [
    {
     "name": "stdout",
     "output_type": "stream",
     "text": [
      "pineapple\n",
      "pineapple is not in the list\n"
     ]
    }
   ],
   "source": [
    "fruits=[\"apple\", \"banana\", \"kiwi\", \"guava\", \"mango\"]\n",
    "search_fruits= input()\n",
    "\n",
    "if search_fruits in fruits:\n",
    "    print(search_fruits,\"is in the list\")\n",
    "else:\n",
    "    print(search_fruits, \"is not in the list\")"
   ]
  },
  {
   "cell_type": "markdown",
   "id": "842cf0a5",
   "metadata": {},
   "source": [
    "# if elif else\n"
   ]
  },
  {
   "cell_type": "code",
   "execution_count": 6,
   "id": "ee73c5da",
   "metadata": {},
   "outputs": [
    {
     "name": "stdout",
     "output_type": "stream",
     "text": [
      "is the animal flying,crawling, walking, swimmingjumping\n",
      "activity is unrecognizable\n"
     ]
    }
   ],
   "source": [
    "\n",
    "activity=input(\"is the animal flying,crawling, walking, swimming\",)\n",
    "if activity==\"flying\":\n",
    "    print(\"its a bird\")\n",
    "elif activity== \"crawling\":\n",
    "    print(\"its a reptile\")\n",
    "elif activity== \"walking\":\n",
    "    print(\"its an animal\")\n",
    "elif activity== \"swimming\":\n",
    "    print(\"its a fish\")\n",
    "else:\n",
    "    print(\"activity is unrecognizable\")"
   ]
  },
  {
   "cell_type": "code",
   "execution_count": 11,
   "id": "4047b864",
   "metadata": {},
   "outputs": [
    {
     "name": "stdout",
     "output_type": "stream",
     "text": [
      "enter the number of vaccinations you have taken0\n",
      "Please visit your nearest vaccination center and get vaccinated\n"
     ]
    }
   ],
   "source": [
    "x=int(input(\"enter the number of vaccinations you have taken\",))\n",
    "if x==1:\n",
    "    print(\"your next dose is after 90 days of first dose\")\n",
    "    \n",
    "elif x==2:\n",
    "    print(\"your vaccination is completed successfully\")\n",
    "elif x==0:\n",
    "    print(\"Please visit your nearest vaccination center and get vaccinated\")\n",
    "else:\n",
    "    print(\"please enter a value between 0 to 2\")"
   ]
  },
  {
   "cell_type": "markdown",
   "id": "e41298c5",
   "metadata": {},
   "source": [
    "### Nested if-else"
   ]
  },
  {
   "cell_type": "code",
   "execution_count": 13,
   "id": "7b8e9907",
   "metadata": {},
   "outputs": [
    {
     "name": "stdout",
     "output_type": "stream",
     "text": [
      "150 is greater\n"
     ]
    }
   ],
   "source": [
    "num1=100\n",
    "num2=50\n",
    "num3=150\n",
    "if num1>num2 and num1>num3 :\n",
    "    print(num1,\"is greater\")\n",
    "else:\n",
    "    if num2>num3:\n",
    "        print(num2, \" is greater\")\n",
    "    else:\n",
    "        print(num3, \"is greater\")"
   ]
  },
  {
   "cell_type": "code",
   "execution_count": 14,
   "id": "8efb7bec",
   "metadata": {},
   "outputs": [],
   "source": [
    "## WAP to check whether the age entered by user is above 18 or not?"
   ]
  },
  {
   "cell_type": "code",
   "execution_count": 3,
   "id": "778fe512",
   "metadata": {},
   "outputs": [
    {
     "name": "stdout",
     "output_type": "stream",
     "text": [
      "Enter your age:18\n",
      "you age is more than 18 years\n"
     ]
    }
   ],
   "source": [
    "age=int(input(\"Enter your age:\"))\n",
    "if age>=18:\n",
    "    print(\"you age is more than 18 years\")\n",
    "else:\n",
    "    print(\" you are not 18 yet\")"
   ]
  },
  {
   "cell_type": "code",
   "execution_count": 1,
   "id": "602ce841",
   "metadata": {},
   "outputs": [
    {
     "name": "stdout",
     "output_type": "stream",
     "text": [
      "whats the current temperature in celcius ?24\n",
      "is it cloudy?no\n",
      "you can go for shopping, the weather seems alright\n"
     ]
    }
   ],
   "source": [
    "#WAP to choose good weather to go for shopping\n",
    "\n",
    "\n",
    "temp=float(input(\"whats the current temperature in celcius ?\"))\n",
    "if temp>=30:\n",
    "    print(\"Its quite hot outside, not a great time to go for shopping\")\n",
    "elif temp<=18:\n",
    "    print(\"its quite chilled weather outside, you can go for shopping\")\n",
    "elif temp>18 and temp<30:\n",
    "    cloud=str(input(\"is it cloudy?\"))\n",
    "    if cloud==\"yes\":\n",
    "        print(\"it might rain, not a good choice to go for shopping\")\n",
    "    else:\n",
    "        print(\"you can go for shopping, the weather seems alright\")"
   ]
  },
  {
   "cell_type": "code",
   "execution_count": null,
   "id": "33957cbc",
   "metadata": {},
   "outputs": [],
   "source": []
  },
  {
   "cell_type": "code",
   "execution_count": null,
   "id": "7f7a396e",
   "metadata": {},
   "outputs": [],
   "source": []
  }
 ],
 "metadata": {
  "kernelspec": {
   "display_name": "Python 3",
   "language": "python",
   "name": "python3"
  },
  "language_info": {
   "codemirror_mode": {
    "name": "ipython",
    "version": 3
   },
   "file_extension": ".py",
   "mimetype": "text/x-python",
   "name": "python",
   "nbconvert_exporter": "python",
   "pygments_lexer": "ipython3",
   "version": "3.8.8"
  }
 },
 "nbformat": 4,
 "nbformat_minor": 5
}
