{
 "cells": [
  {
   "cell_type": "code",
   "execution_count": null,
   "id": "60bc728c",
   "metadata": {},
   "outputs": [],
   "source": [
    "i=0\n",
    "while i<=10 ad i>=0:\n",
    "    print(i)\n",
    "### it will enter into an endless loop   \n",
    "i=int(input(\"enter the number\"))\n",
    "### this statement will not be executed because of its indentation\n"
   ]
  },
  {
   "cell_type": "code",
   "execution_count": null,
   "id": "0235f0ee",
   "metadata": {},
   "outputs": [],
   "source": [
    "### WAP to display 3,6,9,12,15 using while loop\n",
    "i=3\n",
    "while i<16:\n",
    "    print(i)\n",
    "    i+=3"
   ]
  },
  {
   "cell_type": "code",
   "execution_count": null,
   "id": "9f833ced",
   "metadata": {},
   "outputs": [],
   "source": [
    "i=1\n",
    "while i<100:\n",
    "    print(i)\n",
    "    if i==20:\n",
    "        break\n",
    "    i+=2"
   ]
  },
  {
   "cell_type": "code",
   "execution_count": 3,
   "id": "a2497f70",
   "metadata": {},
   "outputs": [
    {
     "name": "stdout",
     "output_type": "stream",
     "text": [
      "1\n",
      "3\n",
      "5\n",
      "7\n",
      "9\n",
      "11\n",
      "13\n",
      "15\n",
      "17\n",
      "19\n",
      "21\n"
     ]
    }
   ],
   "source": [
    "i=1\n",
    "while i<100:\n",
    "    print(i)\n",
    "    if i==21:\n",
    "        break\n",
    "    i+=2\n",
    "    \n",
    "    ### break statement\n",
    "    ### break will end the loop"
   ]
  },
  {
   "cell_type": "code",
   "execution_count": 2,
   "id": "001cf54b",
   "metadata": {},
   "outputs": [
    {
     "name": "stdout",
     "output_type": "stream",
     "text": [
      "1\n",
      "2\n",
      "4\n",
      "5\n",
      "6\n"
     ]
    }
   ],
   "source": [
    "i=0\n",
    "while i<6:\n",
    "    i+=1\n",
    "    if i==3:\n",
    "        continue\n",
    "    print(i)\n",
    "    \n",
    "    ##continue statement\n",
    "    ### particular loop will be skipped rest will continue \n",
    "    \n",
    "    ###check whether the increment statement is before print statement\n",
    "    ###if it is then the increment will happen first and then the \n",
    "    ### print statement will be executed"
   ]
  },
  {
   "cell_type": "markdown",
   "id": "24d72c63",
   "metadata": {},
   "source": [
    "# FOR loops\n"
   ]
  },
  {
   "cell_type": "code",
   "execution_count": 4,
   "id": "796c41fd",
   "metadata": {},
   "outputs": [
    {
     "name": "stdout",
     "output_type": "stream",
     "text": [
      "apple\n",
      "mango\n",
      "pine\n"
     ]
    }
   ],
   "source": [
    "sample_list=[\"apple\",\"mango\",\"pine\"]\n",
    "for x in sample_list:\n",
    "    print(x)"
   ]
  },
  {
   "cell_type": "code",
   "execution_count": 5,
   "id": "c1d3f6ce",
   "metadata": {},
   "outputs": [
    {
     "name": "stdout",
     "output_type": "stream",
     "text": [
      "a\n",
      "p\n",
      "p\n",
      "l\n",
      "e\n"
     ]
    }
   ],
   "source": [
    "for x in \"apple\":\n",
    "    print(x)"
   ]
  },
  {
   "cell_type": "code",
   "execution_count": 9,
   "id": "1fa8fb5b",
   "metadata": {},
   "outputs": [
    {
     "data": {
      "text/plain": [
       "['ML with python',\n",
       " 'ML with R',\n",
       " 'Python',\n",
       " 'data science with Python',\n",
       " 'datascience with R']"
      ]
     },
     "execution_count": 9,
     "metadata": {},
     "output_type": "execute_result"
    }
   ],
   "source": [
    "courses=[\"ML with python\", \"ML with R\", \"Python\", \"data science with Python\", \"datascience with R\"]\n",
    "courses"
   ]
  },
  {
   "cell_type": "code",
   "execution_count": 10,
   "id": "715e50f1",
   "metadata": {},
   "outputs": [
    {
     "name": "stdout",
     "output_type": "stream",
     "text": [
      "ML with python\n",
      "ML with R\n",
      "Python\n",
      "data science with Python\n",
      "datascience with R\n"
     ]
    }
   ],
   "source": [
    "for x in courses:\n",
    "    print(x)"
   ]
  },
  {
   "cell_type": "code",
   "execution_count": 13,
   "id": "68f28398",
   "metadata": {},
   "outputs": [
    {
     "name": "stdout",
     "output_type": "stream",
     "text": [
      "ML with python\n",
      "ML with R\n"
     ]
    }
   ],
   "source": [
    "for x in courses:\n",
    "    if x==\"Python\":\n",
    "        break\n",
    "    print(x)"
   ]
  },
  {
   "cell_type": "code",
   "execution_count": 14,
   "id": "450fece6",
   "metadata": {},
   "outputs": [
    {
     "name": "stdout",
     "output_type": "stream",
     "text": [
      "ML with python\n",
      "ML with R\n",
      "data science with Python\n",
      "datascience with R\n"
     ]
    }
   ],
   "source": [
    "for x in courses:\n",
    "    if x==\"Python\":\n",
    "        continue\n",
    "    print(x)"
   ]
  },
  {
   "cell_type": "code",
   "execution_count": 15,
   "id": "dbcb4c67",
   "metadata": {},
   "outputs": [
    {
     "name": "stdout",
     "output_type": "stream",
     "text": [
      "ML with python\n",
      "ML with python\n",
      "ML with R\n",
      "ML with R\n",
      "Python\n"
     ]
    }
   ],
   "source": [
    "for x in courses:\n",
    "    print(x)\n",
    "    if x==\"Python\":\n",
    "        break\n",
    "    print(x)"
   ]
  },
  {
   "cell_type": "code",
   "execution_count": null,
   "id": "7e90d941",
   "metadata": {},
   "outputs": [],
   "source": []
  }
 ],
 "metadata": {
  "kernelspec": {
   "display_name": "Python 3",
   "language": "python",
   "name": "python3"
  },
  "language_info": {
   "codemirror_mode": {
    "name": "ipython",
    "version": 3
   },
   "file_extension": ".py",
   "mimetype": "text/x-python",
   "name": "python",
   "nbconvert_exporter": "python",
   "pygments_lexer": "ipython3",
   "version": "3.8.8"
  }
 },
 "nbformat": 4,
 "nbformat_minor": 5
}
