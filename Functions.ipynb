{
 "cells": [
  {
   "cell_type": "code",
   "execution_count": null,
   "id": "bf0c4e42",
   "metadata": {},
   "outputs": [],
   "source": [
    "### function is a block of code which will be executed when its called-"
   ]
  },
  {
   "cell_type": "markdown",
   "id": "0c0dc402",
   "metadata": {},
   "source": [
    "## Built in Functions"
   ]
  },
  {
   "cell_type": "code",
   "execution_count": null,
   "id": "476f6819",
   "metadata": {},
   "outputs": [],
   "source": [
    "## max(), min(), int(), sum(), len() are built in functions"
   ]
  },
  {
   "cell_type": "markdown",
   "id": "c4ed7556",
   "metadata": {},
   "source": [
    "## defining a function"
   ]
  },
  {
   "cell_type": "code",
   "execution_count": null,
   "id": "5f1360e3",
   "metadata": {},
   "outputs": [],
   "source": [
    "def greeting():\n",
    "    print(\"hello\")\n",
    "### def is a keyword used for defining our own function    \n",
    "    "
   ]
  },
  {
   "cell_type": "code",
   "execution_count": null,
   "id": "0a6dc1f6",
   "metadata": {},
   "outputs": [],
   "source": [
    "greeting()\n",
    "### calling the function"
   ]
  },
  {
   "cell_type": "code",
   "execution_count": 9,
   "id": "71b028d8",
   "metadata": {},
   "outputs": [
    {
     "name": "stdout",
     "output_type": "stream",
     "text": [
      "select 1 for addition\n",
      "select 2 for multiplication\n",
      "select the operation1\n"
     ]
    },
    {
     "data": {
      "text/plain": [
       "9"
      ]
     },
     "execution_count": 9,
     "metadata": {},
     "output_type": "execute_result"
    }
   ],
   "source": [
    "def operation(n1,n2):\n",
    "    print(\"select 1 for addition\")\n",
    "    print(\"select 2 for multiplication\")\n",
    "\n",
    "    select=int(input(\"select the operation\"))\n",
    "\n",
    "    if select==1:\n",
    "        sum=n1+n2\n",
    "        return sum\n",
    "    elif select==2:\n",
    "        mul=n1*n2\n",
    "        return mul\n",
    "    else:\n",
    "        return \"invalid option\"\n",
    "\n",
    "operation(4,5)"
   ]
  },
  {
   "cell_type": "markdown",
   "id": "dddad1d9",
   "metadata": {},
   "source": [
    "# Lambda Function\n"
   ]
  },
  {
   "cell_type": "code",
   "execution_count": 10,
   "id": "f581ca08",
   "metadata": {},
   "outputs": [
    {
     "name": "stdout",
     "output_type": "stream",
     "text": [
      "11\n"
     ]
    }
   ],
   "source": [
    "x= lambda a,b,c:a+b+c\n",
    "print(x(5,4,2))"
   ]
  },
  {
   "cell_type": "code",
   "execution_count": 11,
   "id": "c917bd0a",
   "metadata": {},
   "outputs": [
    {
     "name": "stdout",
     "output_type": "stream",
     "text": [
      "20\n"
     ]
    }
   ],
   "source": [
    "x= lambda a,b,c:a+b+c\n",
    "print(x(3,6,11))"
   ]
  },
  {
   "cell_type": "code",
   "execution_count": 14,
   "id": "e6b0d158",
   "metadata": {},
   "outputs": [
    {
     "name": "stdout",
     "output_type": "stream",
     "text": [
      "[5, 7, 87, 77, 73, 61]\n"
     ]
    }
   ],
   "source": [
    "### Filter\n",
    "li=[5,7,22,87,54,88,77,73,61]\n",
    "final_list = list(filter(lambda x: (x%2 != 0), li))\n",
    "print (final_list)"
   ]
  },
  {
   "cell_type": "code",
   "execution_count": 15,
   "id": "d6e5f19a",
   "metadata": {},
   "outputs": [
    {
     "name": "stdout",
     "output_type": "stream",
     "text": [
      "[10, 68, 64, 108, 152, 8, 68, 1534, 174, 16, 848]\n"
     ]
    }
   ],
   "source": [
    "li=[5,34,32,54,76,4,34,767,87,8,424]\n",
    "final_list=list(map(lambda x:x*2,li))\n",
    "print(final_list)"
   ]
  },
  {
   "cell_type": "code",
   "execution_count": 19,
   "id": "dedbfc16",
   "metadata": {},
   "outputs": [
    {
     "name": "stdout",
     "output_type": "stream",
     "text": [
      "509\n"
     ]
    }
   ],
   "source": [
    "from functools import reduce\n",
    "lis=[52,34,45,65,76,67,45,34,6,78,7]\n",
    "sum = reduce((lambda x,y:x+y),lis)\n",
    "print(sum)"
   ]
  },
  {
   "cell_type": "code",
   "execution_count": null,
   "id": "3197fd85",
   "metadata": {},
   "outputs": [],
   "source": []
  }
 ],
 "metadata": {
  "kernelspec": {
   "display_name": "Python 3",
   "language": "python",
   "name": "python3"
  },
  "language_info": {
   "codemirror_mode": {
    "name": "ipython",
    "version": 3
   },
   "file_extension": ".py",
   "mimetype": "text/x-python",
   "name": "python",
   "nbconvert_exporter": "python",
   "pygments_lexer": "ipython3",
   "version": "3.8.8"
  }
 },
 "nbformat": 4,
 "nbformat_minor": 5
}
